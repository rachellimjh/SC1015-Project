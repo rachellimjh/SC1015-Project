{
 "cells": [
  {
   "cell_type": "markdown",
   "id": "685de16d",
   "metadata": {},
   "source": [
    "# Importing Basic Libraries"
   ]
  },
  {
   "cell_type": "code",
   "execution_count": 36,
   "id": "7506a2bf",
   "metadata": {},
   "outputs": [],
   "source": [
    "# Basic Libraries\n",
    "import numpy as np\n",
    "import pandas as pd\n",
    "import seaborn as sb\n",
    "import matplotlib.pyplot as plt # we only need pyplot\n",
    "sb.set() # set the default Seaborn style for graphics"
   ]
  },
  {
   "cell_type": "markdown",
   "id": "484bffe1",
   "metadata": {},
   "source": [
    "# Importing the csv file for our dataset: Online Shoppers Intentions"
   ]
  },
  {
   "cell_type": "code",
   "execution_count": 37,
   "id": "0b56276b",
   "metadata": {},
   "outputs": [
    {
     "data": {
      "text/html": [
       "<div>\n",
       "<style scoped>\n",
       "    .dataframe tbody tr th:only-of-type {\n",
       "        vertical-align: middle;\n",
       "    }\n",
       "\n",
       "    .dataframe tbody tr th {\n",
       "        vertical-align: top;\n",
       "    }\n",
       "\n",
       "    .dataframe thead th {\n",
       "        text-align: right;\n",
       "    }\n",
       "</style>\n",
       "<table border=\"1\" class=\"dataframe\">\n",
       "  <thead>\n",
       "    <tr style=\"text-align: right;\">\n",
       "      <th></th>\n",
       "      <th>Administrative</th>\n",
       "      <th>Administrative_Duration</th>\n",
       "      <th>Informational</th>\n",
       "      <th>Informational_Duration</th>\n",
       "      <th>ProductRelated</th>\n",
       "      <th>ProductRelated_Duration</th>\n",
       "      <th>BounceRates</th>\n",
       "      <th>ExitRates</th>\n",
       "      <th>PageValues</th>\n",
       "      <th>SpecialDay</th>\n",
       "      <th>Month</th>\n",
       "      <th>OperatingSystems</th>\n",
       "      <th>Browser</th>\n",
       "      <th>Region</th>\n",
       "      <th>TrafficType</th>\n",
       "      <th>VisitorType</th>\n",
       "      <th>Weekend</th>\n",
       "      <th>Revenue</th>\n",
       "    </tr>\n",
       "  </thead>\n",
       "  <tbody>\n",
       "    <tr>\n",
       "      <th>0</th>\n",
       "      <td>0</td>\n",
       "      <td>0.0</td>\n",
       "      <td>0</td>\n",
       "      <td>0.0</td>\n",
       "      <td>1</td>\n",
       "      <td>0.000000</td>\n",
       "      <td>0.20</td>\n",
       "      <td>0.20</td>\n",
       "      <td>0.0</td>\n",
       "      <td>0.0</td>\n",
       "      <td>Feb</td>\n",
       "      <td>1</td>\n",
       "      <td>1</td>\n",
       "      <td>1</td>\n",
       "      <td>1</td>\n",
       "      <td>Returning_Visitor</td>\n",
       "      <td>False</td>\n",
       "      <td>False</td>\n",
       "    </tr>\n",
       "    <tr>\n",
       "      <th>1</th>\n",
       "      <td>0</td>\n",
       "      <td>0.0</td>\n",
       "      <td>0</td>\n",
       "      <td>0.0</td>\n",
       "      <td>2</td>\n",
       "      <td>64.000000</td>\n",
       "      <td>0.00</td>\n",
       "      <td>0.10</td>\n",
       "      <td>0.0</td>\n",
       "      <td>0.0</td>\n",
       "      <td>Feb</td>\n",
       "      <td>2</td>\n",
       "      <td>2</td>\n",
       "      <td>1</td>\n",
       "      <td>2</td>\n",
       "      <td>Returning_Visitor</td>\n",
       "      <td>False</td>\n",
       "      <td>False</td>\n",
       "    </tr>\n",
       "    <tr>\n",
       "      <th>2</th>\n",
       "      <td>0</td>\n",
       "      <td>0.0</td>\n",
       "      <td>0</td>\n",
       "      <td>0.0</td>\n",
       "      <td>1</td>\n",
       "      <td>0.000000</td>\n",
       "      <td>0.20</td>\n",
       "      <td>0.20</td>\n",
       "      <td>0.0</td>\n",
       "      <td>0.0</td>\n",
       "      <td>Feb</td>\n",
       "      <td>4</td>\n",
       "      <td>1</td>\n",
       "      <td>9</td>\n",
       "      <td>3</td>\n",
       "      <td>Returning_Visitor</td>\n",
       "      <td>False</td>\n",
       "      <td>False</td>\n",
       "    </tr>\n",
       "    <tr>\n",
       "      <th>3</th>\n",
       "      <td>0</td>\n",
       "      <td>0.0</td>\n",
       "      <td>0</td>\n",
       "      <td>0.0</td>\n",
       "      <td>2</td>\n",
       "      <td>2.666667</td>\n",
       "      <td>0.05</td>\n",
       "      <td>0.14</td>\n",
       "      <td>0.0</td>\n",
       "      <td>0.0</td>\n",
       "      <td>Feb</td>\n",
       "      <td>3</td>\n",
       "      <td>2</td>\n",
       "      <td>2</td>\n",
       "      <td>4</td>\n",
       "      <td>Returning_Visitor</td>\n",
       "      <td>False</td>\n",
       "      <td>False</td>\n",
       "    </tr>\n",
       "    <tr>\n",
       "      <th>4</th>\n",
       "      <td>0</td>\n",
       "      <td>0.0</td>\n",
       "      <td>0</td>\n",
       "      <td>0.0</td>\n",
       "      <td>10</td>\n",
       "      <td>627.500000</td>\n",
       "      <td>0.02</td>\n",
       "      <td>0.05</td>\n",
       "      <td>0.0</td>\n",
       "      <td>0.0</td>\n",
       "      <td>Feb</td>\n",
       "      <td>3</td>\n",
       "      <td>3</td>\n",
       "      <td>1</td>\n",
       "      <td>4</td>\n",
       "      <td>Returning_Visitor</td>\n",
       "      <td>True</td>\n",
       "      <td>False</td>\n",
       "    </tr>\n",
       "  </tbody>\n",
       "</table>\n",
       "</div>"
      ],
      "text/plain": [
       "   Administrative  Administrative_Duration  Informational  \\\n",
       "0               0                      0.0              0   \n",
       "1               0                      0.0              0   \n",
       "2               0                      0.0              0   \n",
       "3               0                      0.0              0   \n",
       "4               0                      0.0              0   \n",
       "\n",
       "   Informational_Duration  ProductRelated  ProductRelated_Duration  \\\n",
       "0                     0.0               1                 0.000000   \n",
       "1                     0.0               2                64.000000   \n",
       "2                     0.0               1                 0.000000   \n",
       "3                     0.0               2                 2.666667   \n",
       "4                     0.0              10               627.500000   \n",
       "\n",
       "   BounceRates  ExitRates  PageValues  SpecialDay Month  OperatingSystems  \\\n",
       "0         0.20       0.20         0.0         0.0   Feb                 1   \n",
       "1         0.00       0.10         0.0         0.0   Feb                 2   \n",
       "2         0.20       0.20         0.0         0.0   Feb                 4   \n",
       "3         0.05       0.14         0.0         0.0   Feb                 3   \n",
       "4         0.02       0.05         0.0         0.0   Feb                 3   \n",
       "\n",
       "   Browser  Region  TrafficType        VisitorType  Weekend  Revenue  \n",
       "0        1       1            1  Returning_Visitor    False    False  \n",
       "1        2       1            2  Returning_Visitor    False    False  \n",
       "2        1       9            3  Returning_Visitor    False    False  \n",
       "3        2       2            4  Returning_Visitor    False    False  \n",
       "4        3       1            4  Returning_Visitor     True    False  "
      ]
     },
     "execution_count": 37,
     "metadata": {},
     "output_type": "execute_result"
    }
   ],
   "source": [
    "#Import csv file for our dataset: Online Shoppers' Intentions\n",
    "osiData = pd.read_csv('online_shoppers_intention.csv')\n",
    "osiData.head()"
   ]
  },
  {
   "cell_type": "markdown",
   "id": "5f70be45",
   "metadata": {},
   "source": [
    "# Data Preparation\n",
    "## Cleaning the data: Removing any duplicate values"
   ]
  },
  {
   "cell_type": "code",
   "execution_count": 78,
   "id": "490df50c",
   "metadata": {
    "scrolled": false
   },
   "outputs": [
    {
     "data": {
      "text/html": [
       "<div>\n",
       "<style scoped>\n",
       "    .dataframe tbody tr th:only-of-type {\n",
       "        vertical-align: middle;\n",
       "    }\n",
       "\n",
       "    .dataframe tbody tr th {\n",
       "        vertical-align: top;\n",
       "    }\n",
       "\n",
       "    .dataframe thead th {\n",
       "        text-align: right;\n",
       "    }\n",
       "</style>\n",
       "<table border=\"1\" class=\"dataframe\">\n",
       "  <thead>\n",
       "    <tr style=\"text-align: right;\">\n",
       "      <th></th>\n",
       "      <th>Administrative</th>\n",
       "      <th>Administrative_Duration</th>\n",
       "      <th>Informational</th>\n",
       "      <th>Informational_Duration</th>\n",
       "      <th>ProductRelated</th>\n",
       "      <th>ProductRelated_Duration</th>\n",
       "      <th>BounceRates</th>\n",
       "      <th>ExitRates</th>\n",
       "      <th>PageValues</th>\n",
       "      <th>SpecialDay</th>\n",
       "      <th>Month</th>\n",
       "      <th>OperatingSystems</th>\n",
       "      <th>Browser</th>\n",
       "      <th>Region</th>\n",
       "      <th>TrafficType</th>\n",
       "      <th>VisitorType</th>\n",
       "      <th>Weekend</th>\n",
       "      <th>Revenue</th>\n",
       "    </tr>\n",
       "  </thead>\n",
       "  <tbody>\n",
       "    <tr>\n",
       "      <th>0</th>\n",
       "      <td>0</td>\n",
       "      <td>0.0</td>\n",
       "      <td>0</td>\n",
       "      <td>0.0</td>\n",
       "      <td>1</td>\n",
       "      <td>0.000000</td>\n",
       "      <td>0.200000</td>\n",
       "      <td>0.200000</td>\n",
       "      <td>0.000000</td>\n",
       "      <td>0.0</td>\n",
       "      <td>Feb</td>\n",
       "      <td>1</td>\n",
       "      <td>1</td>\n",
       "      <td>1</td>\n",
       "      <td>1</td>\n",
       "      <td>Returning_Visitor</td>\n",
       "      <td>False</td>\n",
       "      <td>0</td>\n",
       "    </tr>\n",
       "    <tr>\n",
       "      <th>1</th>\n",
       "      <td>0</td>\n",
       "      <td>0.0</td>\n",
       "      <td>0</td>\n",
       "      <td>0.0</td>\n",
       "      <td>2</td>\n",
       "      <td>64.000000</td>\n",
       "      <td>0.000000</td>\n",
       "      <td>0.100000</td>\n",
       "      <td>0.000000</td>\n",
       "      <td>0.0</td>\n",
       "      <td>Feb</td>\n",
       "      <td>2</td>\n",
       "      <td>2</td>\n",
       "      <td>1</td>\n",
       "      <td>2</td>\n",
       "      <td>Returning_Visitor</td>\n",
       "      <td>False</td>\n",
       "      <td>0</td>\n",
       "    </tr>\n",
       "    <tr>\n",
       "      <th>2</th>\n",
       "      <td>0</td>\n",
       "      <td>0.0</td>\n",
       "      <td>0</td>\n",
       "      <td>0.0</td>\n",
       "      <td>1</td>\n",
       "      <td>0.000000</td>\n",
       "      <td>0.200000</td>\n",
       "      <td>0.200000</td>\n",
       "      <td>0.000000</td>\n",
       "      <td>0.0</td>\n",
       "      <td>Feb</td>\n",
       "      <td>4</td>\n",
       "      <td>1</td>\n",
       "      <td>9</td>\n",
       "      <td>3</td>\n",
       "      <td>Returning_Visitor</td>\n",
       "      <td>False</td>\n",
       "      <td>0</td>\n",
       "    </tr>\n",
       "    <tr>\n",
       "      <th>3</th>\n",
       "      <td>0</td>\n",
       "      <td>0.0</td>\n",
       "      <td>0</td>\n",
       "      <td>0.0</td>\n",
       "      <td>2</td>\n",
       "      <td>2.666667</td>\n",
       "      <td>0.050000</td>\n",
       "      <td>0.140000</td>\n",
       "      <td>0.000000</td>\n",
       "      <td>0.0</td>\n",
       "      <td>Feb</td>\n",
       "      <td>3</td>\n",
       "      <td>2</td>\n",
       "      <td>2</td>\n",
       "      <td>4</td>\n",
       "      <td>Returning_Visitor</td>\n",
       "      <td>False</td>\n",
       "      <td>0</td>\n",
       "    </tr>\n",
       "    <tr>\n",
       "      <th>4</th>\n",
       "      <td>0</td>\n",
       "      <td>0.0</td>\n",
       "      <td>0</td>\n",
       "      <td>0.0</td>\n",
       "      <td>10</td>\n",
       "      <td>627.500000</td>\n",
       "      <td>0.020000</td>\n",
       "      <td>0.050000</td>\n",
       "      <td>0.000000</td>\n",
       "      <td>0.0</td>\n",
       "      <td>Feb</td>\n",
       "      <td>3</td>\n",
       "      <td>3</td>\n",
       "      <td>1</td>\n",
       "      <td>4</td>\n",
       "      <td>Returning_Visitor</td>\n",
       "      <td>True</td>\n",
       "      <td>0</td>\n",
       "    </tr>\n",
       "    <tr>\n",
       "      <th>...</th>\n",
       "      <td>...</td>\n",
       "      <td>...</td>\n",
       "      <td>...</td>\n",
       "      <td>...</td>\n",
       "      <td>...</td>\n",
       "      <td>...</td>\n",
       "      <td>...</td>\n",
       "      <td>...</td>\n",
       "      <td>...</td>\n",
       "      <td>...</td>\n",
       "      <td>...</td>\n",
       "      <td>...</td>\n",
       "      <td>...</td>\n",
       "      <td>...</td>\n",
       "      <td>...</td>\n",
       "      <td>...</td>\n",
       "      <td>...</td>\n",
       "      <td>...</td>\n",
       "    </tr>\n",
       "    <tr>\n",
       "      <th>12325</th>\n",
       "      <td>3</td>\n",
       "      <td>145.0</td>\n",
       "      <td>0</td>\n",
       "      <td>0.0</td>\n",
       "      <td>53</td>\n",
       "      <td>1783.791667</td>\n",
       "      <td>0.007143</td>\n",
       "      <td>0.029031</td>\n",
       "      <td>12.241717</td>\n",
       "      <td>0.0</td>\n",
       "      <td>Dec</td>\n",
       "      <td>4</td>\n",
       "      <td>6</td>\n",
       "      <td>1</td>\n",
       "      <td>1</td>\n",
       "      <td>Returning_Visitor</td>\n",
       "      <td>True</td>\n",
       "      <td>0</td>\n",
       "    </tr>\n",
       "    <tr>\n",
       "      <th>12326</th>\n",
       "      <td>0</td>\n",
       "      <td>0.0</td>\n",
       "      <td>0</td>\n",
       "      <td>0.0</td>\n",
       "      <td>5</td>\n",
       "      <td>465.750000</td>\n",
       "      <td>0.000000</td>\n",
       "      <td>0.021333</td>\n",
       "      <td>0.000000</td>\n",
       "      <td>0.0</td>\n",
       "      <td>Nov</td>\n",
       "      <td>3</td>\n",
       "      <td>2</td>\n",
       "      <td>1</td>\n",
       "      <td>8</td>\n",
       "      <td>Returning_Visitor</td>\n",
       "      <td>True</td>\n",
       "      <td>0</td>\n",
       "    </tr>\n",
       "    <tr>\n",
       "      <th>12327</th>\n",
       "      <td>0</td>\n",
       "      <td>0.0</td>\n",
       "      <td>0</td>\n",
       "      <td>0.0</td>\n",
       "      <td>6</td>\n",
       "      <td>184.250000</td>\n",
       "      <td>0.083333</td>\n",
       "      <td>0.086667</td>\n",
       "      <td>0.000000</td>\n",
       "      <td>0.0</td>\n",
       "      <td>Nov</td>\n",
       "      <td>3</td>\n",
       "      <td>2</td>\n",
       "      <td>1</td>\n",
       "      <td>13</td>\n",
       "      <td>Returning_Visitor</td>\n",
       "      <td>True</td>\n",
       "      <td>0</td>\n",
       "    </tr>\n",
       "    <tr>\n",
       "      <th>12328</th>\n",
       "      <td>4</td>\n",
       "      <td>75.0</td>\n",
       "      <td>0</td>\n",
       "      <td>0.0</td>\n",
       "      <td>15</td>\n",
       "      <td>346.000000</td>\n",
       "      <td>0.000000</td>\n",
       "      <td>0.021053</td>\n",
       "      <td>0.000000</td>\n",
       "      <td>0.0</td>\n",
       "      <td>Nov</td>\n",
       "      <td>2</td>\n",
       "      <td>2</td>\n",
       "      <td>3</td>\n",
       "      <td>11</td>\n",
       "      <td>Returning_Visitor</td>\n",
       "      <td>False</td>\n",
       "      <td>0</td>\n",
       "    </tr>\n",
       "    <tr>\n",
       "      <th>12329</th>\n",
       "      <td>0</td>\n",
       "      <td>0.0</td>\n",
       "      <td>0</td>\n",
       "      <td>0.0</td>\n",
       "      <td>3</td>\n",
       "      <td>21.250000</td>\n",
       "      <td>0.000000</td>\n",
       "      <td>0.066667</td>\n",
       "      <td>0.000000</td>\n",
       "      <td>0.0</td>\n",
       "      <td>Nov</td>\n",
       "      <td>3</td>\n",
       "      <td>2</td>\n",
       "      <td>1</td>\n",
       "      <td>2</td>\n",
       "      <td>New_Visitor</td>\n",
       "      <td>True</td>\n",
       "      <td>0</td>\n",
       "    </tr>\n",
       "  </tbody>\n",
       "</table>\n",
       "<p>12205 rows × 18 columns</p>\n",
       "</div>"
      ],
      "text/plain": [
       "       Administrative  Administrative_Duration  Informational  \\\n",
       "0                   0                      0.0              0   \n",
       "1                   0                      0.0              0   \n",
       "2                   0                      0.0              0   \n",
       "3                   0                      0.0              0   \n",
       "4                   0                      0.0              0   \n",
       "...               ...                      ...            ...   \n",
       "12325               3                    145.0              0   \n",
       "12326               0                      0.0              0   \n",
       "12327               0                      0.0              0   \n",
       "12328               4                     75.0              0   \n",
       "12329               0                      0.0              0   \n",
       "\n",
       "       Informational_Duration  ProductRelated  ProductRelated_Duration  \\\n",
       "0                         0.0               1                 0.000000   \n",
       "1                         0.0               2                64.000000   \n",
       "2                         0.0               1                 0.000000   \n",
       "3                         0.0               2                 2.666667   \n",
       "4                         0.0              10               627.500000   \n",
       "...                       ...             ...                      ...   \n",
       "12325                     0.0              53              1783.791667   \n",
       "12326                     0.0               5               465.750000   \n",
       "12327                     0.0               6               184.250000   \n",
       "12328                     0.0              15               346.000000   \n",
       "12329                     0.0               3                21.250000   \n",
       "\n",
       "       BounceRates  ExitRates  PageValues  SpecialDay Month  OperatingSystems  \\\n",
       "0         0.200000   0.200000    0.000000         0.0   Feb                 1   \n",
       "1         0.000000   0.100000    0.000000         0.0   Feb                 2   \n",
       "2         0.200000   0.200000    0.000000         0.0   Feb                 4   \n",
       "3         0.050000   0.140000    0.000000         0.0   Feb                 3   \n",
       "4         0.020000   0.050000    0.000000         0.0   Feb                 3   \n",
       "...            ...        ...         ...         ...   ...               ...   \n",
       "12325     0.007143   0.029031   12.241717         0.0   Dec                 4   \n",
       "12326     0.000000   0.021333    0.000000         0.0   Nov                 3   \n",
       "12327     0.083333   0.086667    0.000000         0.0   Nov                 3   \n",
       "12328     0.000000   0.021053    0.000000         0.0   Nov                 2   \n",
       "12329     0.000000   0.066667    0.000000         0.0   Nov                 3   \n",
       "\n",
       "       Browser  Region  TrafficType        VisitorType  Weekend  Revenue  \n",
       "0            1       1            1  Returning_Visitor    False        0  \n",
       "1            2       1            2  Returning_Visitor    False        0  \n",
       "2            1       9            3  Returning_Visitor    False        0  \n",
       "3            2       2            4  Returning_Visitor    False        0  \n",
       "4            3       1            4  Returning_Visitor     True        0  \n",
       "...        ...     ...          ...                ...      ...      ...  \n",
       "12325        6       1            1  Returning_Visitor     True        0  \n",
       "12326        2       1            8  Returning_Visitor     True        0  \n",
       "12327        2       1           13  Returning_Visitor     True        0  \n",
       "12328        2       3           11  Returning_Visitor    False        0  \n",
       "12329        2       1            2        New_Visitor     True        0  \n",
       "\n",
       "[12205 rows x 18 columns]"
      ]
     },
     "metadata": {},
     "output_type": "display_data"
    }
   ],
   "source": [
    "osiData = (osiData.drop_duplicates())\n",
    "display(osiData)"
   ]
  },
  {
   "cell_type": "code",
   "execution_count": 77,
   "id": "3d98a4a0",
   "metadata": {},
   "outputs": [
    {
     "name": "stdout",
     "output_type": "stream",
     "text": [
      "<class 'pandas.core.frame.DataFrame'>\n",
      "Int64Index: 12205 entries, 0 to 12329\n",
      "Data columns (total 18 columns):\n",
      " #   Column                   Non-Null Count  Dtype  \n",
      "---  ------                   --------------  -----  \n",
      " 0   Administrative           12205 non-null  int64  \n",
      " 1   Administrative_Duration  12205 non-null  float64\n",
      " 2   Informational            12205 non-null  int64  \n",
      " 3   Informational_Duration   12205 non-null  float64\n",
      " 4   ProductRelated           12205 non-null  int64  \n",
      " 5   ProductRelated_Duration  12205 non-null  float64\n",
      " 6   BounceRates              12205 non-null  float64\n",
      " 7   ExitRates                12205 non-null  float64\n",
      " 8   PageValues               12205 non-null  float64\n",
      " 9   SpecialDay               12205 non-null  float64\n",
      " 10  Month                    12205 non-null  object \n",
      " 11  OperatingSystems         12205 non-null  int64  \n",
      " 12  Browser                  12205 non-null  int64  \n",
      " 13  Region                   12205 non-null  int64  \n",
      " 14  TrafficType              12205 non-null  int64  \n",
      " 15  VisitorType              12205 non-null  object \n",
      " 16  Weekend                  12205 non-null  bool   \n",
      " 17  Revenue                  12205 non-null  int32  \n",
      "dtypes: bool(1), float64(7), int32(1), int64(7), object(2)\n",
      "memory usage: 1.6+ MB\n"
     ]
    }
   ],
   "source": [
    "osiData.info()"
   ]
  },
  {
   "cell_type": "code",
   "execution_count": 38,
   "id": "e3f54ed3",
   "metadata": {},
   "outputs": [
    {
     "name": "stdout",
     "output_type": "stream",
     "text": [
      "<class 'pandas.core.frame.DataFrame'>\n",
      "RangeIndex: 12330 entries, 0 to 12329\n",
      "Data columns (total 5 columns):\n",
      " #   Column                   Non-Null Count  Dtype  \n",
      "---  ------                   --------------  -----  \n",
      " 0   Administrative_Duration  12330 non-null  float64\n",
      " 1   Informational_Duration   12330 non-null  float64\n",
      " 2   ProductRelated_Duration  12330 non-null  float64\n",
      " 3   BounceRates              12330 non-null  float64\n",
      " 4   Revenue                  12330 non-null  bool   \n",
      "dtypes: bool(1), float64(4)\n",
      "memory usage: 397.5 KB\n"
     ]
    }
   ],
   "source": [
    "#Creating TimeSpent Dataframe and dropping all 0s\n",
    "TimeSpent = pd.DataFrame(osiData[[ \"Administrative_Duration\", \"Informational_Duration\", \"ProductRelated_Duration\", \"BounceRates\", \"Revenue\" ]])\n",
    "TimeSpent.info()"
   ]
  },
  {
   "cell_type": "code",
   "execution_count": 39,
   "id": "b9825a98",
   "metadata": {},
   "outputs": [
    {
     "name": "stdout",
     "output_type": "stream",
     "text": [
      "<class 'pandas.core.frame.DataFrame'>\n",
      "RangeIndex: 12330 entries, 0 to 12329\n",
      "Data columns (total 3 columns):\n",
      " #   Column      Non-Null Count  Dtype  \n",
      "---  ------      --------------  -----  \n",
      " 0   SpecialDay  12330 non-null  float64\n",
      " 1   Weekend     12330 non-null  bool   \n",
      " 2   Revenue     12330 non-null  bool   \n",
      "dtypes: bool(2), float64(1)\n",
      "memory usage: 120.5 KB\n"
     ]
    }
   ],
   "source": [
    "#Creating the timePeriod dataFrame\n",
    "TimePeriod =  pd.DataFrame(osiData[[\"SpecialDay\", \"Weekend\", \"Revenue\"]])\n",
    "TimePeriod.info()"
   ]
  },
  {
   "cell_type": "code",
   "execution_count": 40,
   "id": "667d749b",
   "metadata": {},
   "outputs": [
    {
     "name": "stdout",
     "output_type": "stream",
     "text": [
      "<class 'pandas.core.frame.DataFrame'>\n",
      "RangeIndex: 12330 entries, 0 to 12329\n",
      "Data columns (total 7 columns):\n",
      " #   Column            Non-Null Count  Dtype  \n",
      "---  ------            --------------  -----  \n",
      " 0   OperatingSystems  12330 non-null  int64  \n",
      " 1   Browser           12330 non-null  int64  \n",
      " 2   Region            12330 non-null  int64  \n",
      " 3   TrafficType       12330 non-null  int64  \n",
      " 4   VisitorType       12330 non-null  object \n",
      " 5   Revenue           12330 non-null  bool   \n",
      " 6   PageValues        12330 non-null  float64\n",
      "dtypes: bool(1), float64(1), int64(4), object(1)\n",
      "memory usage: 590.1+ KB\n"
     ]
    }
   ],
   "source": [
    "#Creating the visitorAttribute dataFrame\n",
    "VisitorAttributes =  pd.DataFrame(osiData[[\"OperatingSystems\", \"Browser\", \"Region\", \"TrafficType\", \"VisitorType\",\"Revenue\",\"PageValues\"]])\n",
    "VisitorAttributes.info()"
   ]
  },
  {
   "cell_type": "code",
   "execution_count": 41,
   "id": "92fde28a",
   "metadata": {},
   "outputs": [
    {
     "data": {
      "text/html": [
       "<div>\n",
       "<style scoped>\n",
       "    .dataframe tbody tr th:only-of-type {\n",
       "        vertical-align: middle;\n",
       "    }\n",
       "\n",
       "    .dataframe tbody tr th {\n",
       "        vertical-align: top;\n",
       "    }\n",
       "\n",
       "    .dataframe thead th {\n",
       "        text-align: right;\n",
       "    }\n",
       "</style>\n",
       "<table border=\"1\" class=\"dataframe\">\n",
       "  <thead>\n",
       "    <tr style=\"text-align: right;\">\n",
       "      <th></th>\n",
       "      <th>Administrative</th>\n",
       "      <th>Administrative_Duration</th>\n",
       "      <th>Informational</th>\n",
       "      <th>Informational_Duration</th>\n",
       "      <th>ProductRelated</th>\n",
       "      <th>ProductRelated_Duration</th>\n",
       "      <th>BounceRates</th>\n",
       "      <th>ExitRates</th>\n",
       "      <th>PageValues</th>\n",
       "      <th>SpecialDay</th>\n",
       "      <th>Month</th>\n",
       "      <th>OperatingSystems</th>\n",
       "      <th>Browser</th>\n",
       "      <th>Region</th>\n",
       "      <th>TrafficType</th>\n",
       "      <th>VisitorType</th>\n",
       "      <th>Weekend</th>\n",
       "      <th>Revenue</th>\n",
       "    </tr>\n",
       "  </thead>\n",
       "  <tbody>\n",
       "    <tr>\n",
       "      <th>0</th>\n",
       "      <td>0</td>\n",
       "      <td>0.0</td>\n",
       "      <td>0</td>\n",
       "      <td>0.0</td>\n",
       "      <td>1</td>\n",
       "      <td>0.000000</td>\n",
       "      <td>0.20</td>\n",
       "      <td>0.20</td>\n",
       "      <td>0.0</td>\n",
       "      <td>0.0</td>\n",
       "      <td>Feb</td>\n",
       "      <td>1</td>\n",
       "      <td>1</td>\n",
       "      <td>1</td>\n",
       "      <td>1</td>\n",
       "      <td>Returning_Visitor</td>\n",
       "      <td>False</td>\n",
       "      <td>0</td>\n",
       "    </tr>\n",
       "    <tr>\n",
       "      <th>1</th>\n",
       "      <td>0</td>\n",
       "      <td>0.0</td>\n",
       "      <td>0</td>\n",
       "      <td>0.0</td>\n",
       "      <td>2</td>\n",
       "      <td>64.000000</td>\n",
       "      <td>0.00</td>\n",
       "      <td>0.10</td>\n",
       "      <td>0.0</td>\n",
       "      <td>0.0</td>\n",
       "      <td>Feb</td>\n",
       "      <td>2</td>\n",
       "      <td>2</td>\n",
       "      <td>1</td>\n",
       "      <td>2</td>\n",
       "      <td>Returning_Visitor</td>\n",
       "      <td>False</td>\n",
       "      <td>0</td>\n",
       "    </tr>\n",
       "    <tr>\n",
       "      <th>2</th>\n",
       "      <td>0</td>\n",
       "      <td>0.0</td>\n",
       "      <td>0</td>\n",
       "      <td>0.0</td>\n",
       "      <td>1</td>\n",
       "      <td>0.000000</td>\n",
       "      <td>0.20</td>\n",
       "      <td>0.20</td>\n",
       "      <td>0.0</td>\n",
       "      <td>0.0</td>\n",
       "      <td>Feb</td>\n",
       "      <td>4</td>\n",
       "      <td>1</td>\n",
       "      <td>9</td>\n",
       "      <td>3</td>\n",
       "      <td>Returning_Visitor</td>\n",
       "      <td>False</td>\n",
       "      <td>0</td>\n",
       "    </tr>\n",
       "    <tr>\n",
       "      <th>3</th>\n",
       "      <td>0</td>\n",
       "      <td>0.0</td>\n",
       "      <td>0</td>\n",
       "      <td>0.0</td>\n",
       "      <td>2</td>\n",
       "      <td>2.666667</td>\n",
       "      <td>0.05</td>\n",
       "      <td>0.14</td>\n",
       "      <td>0.0</td>\n",
       "      <td>0.0</td>\n",
       "      <td>Feb</td>\n",
       "      <td>3</td>\n",
       "      <td>2</td>\n",
       "      <td>2</td>\n",
       "      <td>4</td>\n",
       "      <td>Returning_Visitor</td>\n",
       "      <td>False</td>\n",
       "      <td>0</td>\n",
       "    </tr>\n",
       "    <tr>\n",
       "      <th>4</th>\n",
       "      <td>0</td>\n",
       "      <td>0.0</td>\n",
       "      <td>0</td>\n",
       "      <td>0.0</td>\n",
       "      <td>10</td>\n",
       "      <td>627.500000</td>\n",
       "      <td>0.02</td>\n",
       "      <td>0.05</td>\n",
       "      <td>0.0</td>\n",
       "      <td>0.0</td>\n",
       "      <td>Feb</td>\n",
       "      <td>3</td>\n",
       "      <td>3</td>\n",
       "      <td>1</td>\n",
       "      <td>4</td>\n",
       "      <td>Returning_Visitor</td>\n",
       "      <td>True</td>\n",
       "      <td>0</td>\n",
       "    </tr>\n",
       "  </tbody>\n",
       "</table>\n",
       "</div>"
      ],
      "text/plain": [
       "   Administrative  Administrative_Duration  Informational  \\\n",
       "0               0                      0.0              0   \n",
       "1               0                      0.0              0   \n",
       "2               0                      0.0              0   \n",
       "3               0                      0.0              0   \n",
       "4               0                      0.0              0   \n",
       "\n",
       "   Informational_Duration  ProductRelated  ProductRelated_Duration  \\\n",
       "0                     0.0               1                 0.000000   \n",
       "1                     0.0               2                64.000000   \n",
       "2                     0.0               1                 0.000000   \n",
       "3                     0.0               2                 2.666667   \n",
       "4                     0.0              10               627.500000   \n",
       "\n",
       "   BounceRates  ExitRates  PageValues  SpecialDay Month  OperatingSystems  \\\n",
       "0         0.20       0.20         0.0         0.0   Feb                 1   \n",
       "1         0.00       0.10         0.0         0.0   Feb                 2   \n",
       "2         0.20       0.20         0.0         0.0   Feb                 4   \n",
       "3         0.05       0.14         0.0         0.0   Feb                 3   \n",
       "4         0.02       0.05         0.0         0.0   Feb                 3   \n",
       "\n",
       "   Browser  Region  TrafficType        VisitorType  Weekend  Revenue  \n",
       "0        1       1            1  Returning_Visitor    False        0  \n",
       "1        2       1            2  Returning_Visitor    False        0  \n",
       "2        1       9            3  Returning_Visitor    False        0  \n",
       "3        2       2            4  Returning_Visitor    False        0  \n",
       "4        3       1            4  Returning_Visitor     True        0  "
      ]
     },
     "execution_count": 41,
     "metadata": {},
     "output_type": "execute_result"
    }
   ],
   "source": [
    "#Converting revenue variable into 0 and 1\n",
    "#true: 1\n",
    "#false: 0\n",
    "osiData[\"Revenue\"] = osiData[\"Revenue\"].astype(int)\n",
    "osiData.head()"
   ]
  },
  {
   "cell_type": "code",
   "execution_count": 42,
   "id": "568f1748",
   "metadata": {},
   "outputs": [
    {
     "name": "stdout",
     "output_type": "stream",
     "text": [
      "<class 'pandas.core.frame.DataFrame'>\n",
      "Int64Index: 319 entries, 262 to 12312\n",
      "Data columns (total 5 columns):\n",
      " #   Column                   Non-Null Count  Dtype  \n",
      "---  ------                   --------------  -----  \n",
      " 0   Administrative_Duration  319 non-null    float64\n",
      " 1   Informational_Duration   319 non-null    float64\n",
      " 2   ProductRelated_Duration  319 non-null    float64\n",
      " 3   BounceRates              319 non-null    float64\n",
      " 4   Revenue                  319 non-null    bool   \n",
      "dtypes: bool(1), float64(4)\n",
      "memory usage: 12.8 KB\n"
     ]
    }
   ],
   "source": [
    "TimeSpent = TimeSpent[(TimeSpent != 0).all(axis=1)]\n",
    "TimeSpent.info()"
   ]
  },
  {
   "cell_type": "code",
   "execution_count": 43,
   "id": "3ac4544e",
   "metadata": {},
   "outputs": [],
   "source": [
    "#Converting revenue(categorical variable) to numerical\n",
    "TimeSpent[\"Revenue\"] = TimeSpent[\"Revenue\"].astype(int)"
   ]
  },
  {
   "cell_type": "code",
   "execution_count": 44,
   "id": "36f58889",
   "metadata": {},
   "outputs": [],
   "source": [
    "#Dropping Outliers for Administrative_Duration\n",
    "Administrative_Duration = pd.DataFrame(TimeSpent[[ \"Administrative_Duration\"]])\n",
    "Administrative_Duration.describe()\n",
    "AD_filtered = Administrative_Duration[(Administrative_Duration >= 294.847619-(1.5*IQR)) & (Administrative_Duration <= 75.300000+(1.5*IQR))]"
   ]
  },
  {
   "cell_type": "code",
   "execution_count": 45,
   "id": "9f88e180",
   "metadata": {},
   "outputs": [
    {
     "data": {
      "text/plain": [
       "<AxesSubplot:>"
      ]
     },
     "execution_count": 45,
     "metadata": {},
     "output_type": "execute_result"
    },
    {
     "data": {
      "image/png": "[encoded data removed]",
      "text/plain": [
       "<Figure size 1728x288 with 1 Axes>"
      ]
     },
     "metadata": {},
     "output_type": "display_data"
    }
   ],
   "source": [
    "#Boxplot of AD_filtered\n",
    "f = plt.figure(figsize=(24, 4))\n",
    "sb.boxplot(data = AD_filtered, orient = \"h\")"
   ]
  },
  {
   "cell_type": "code",
   "execution_count": 46,
   "id": "7cf59ca1",
   "metadata": {},
   "outputs": [],
   "source": [
    "#Dropping Outliers for Informational_Duration\n",
    "Informational_Duration= pd.DataFrame(TimeSpent[[ \"Informational_Duration\"]])\n",
    "Informational_Duration.describe()\n",
    "IQR = 275.0-38.250\n",
    "ID_filtered =Informational_Duration[(Informational_Duration>=275.0-(1.5*IQR)) & (Informational_Duration <= 38.250+(1.5*IQR))]"
   ]
  },
  {
   "cell_type": "code",
   "execution_count": 47,
   "id": "d586187f",
   "metadata": {},
   "outputs": [
    {
     "data": {
      "text/plain": [
       "<AxesSubplot:>"
      ]
     },
     "execution_count": 47,
     "metadata": {},
     "output_type": "execute_result"
    },
    {
     "data": {
      "image/png": "[encoded data removed]",
      "text/plain": [
       "<Figure size 1728x288 with 1 Axes>"
      ]
     },
     "metadata": {},
     "output_type": "display_data"
    }
   ],
   "source": [
    "#Box plot for ID_filtered\n",
    "f = plt.figure(figsize=(24, 4))\n",
    "sb.boxplot(data = ID_filtered, orient = \"h\")"
   ]
  },
  {
   "cell_type": "code",
   "execution_count": 48,
   "id": "ca7dd6d2",
   "metadata": {},
   "outputs": [
    {
     "data": {
      "text/plain": [
       "<AxesSubplot:>"
      ]
     },
     "execution_count": 48,
     "metadata": {},
     "output_type": "execute_result"
    },
    {
     "data": {
      "image/png": "[encoded data removed]",
      "text/plain": [
       "<Figure size 1728x288 with 1 Axes>"
      ]
     },
     "metadata": {},
     "output_type": "display_data"
    }
   ],
   "source": [
    "#Dropping outliers for ProductRelated_Duration\n",
    "ProductRelated_Duration = pd.DataFrame(TimeSpent[[ \"ProductRelated_Duration\"]])\n",
    "ProductRelated_Duration.describe()\n",
    "IQR = 5333.509569-1478.525\n",
    "PRD_filtered =ProductRelated_Duration[(ProductRelated_Duration>=5333.509569-(1.5*IQR)) & (ProductRelated_Duration <= 1478.525+(1.5*IQR))]\n",
    "f = plt.figure(figsize=(24, 4))\n",
    "sb.boxplot(data = PRD_filtered, orient = \"h\")"
   ]
  },
  {
   "cell_type": "code",
   "execution_count": 49,
   "id": "ea163f2e",
   "metadata": {},
   "outputs": [],
   "source": [
    "#Dropping outliers for BounceRates\n",
    "BounceRates = pd.DataFrame(TimeSpent[[ \"BounceRates\"]])\n",
    "BounceRates.describe()\n",
    "IQR = 0.010526-0.003118\n",
    "BounceRates_filtered =BounceRates[(BounceRates>=0.010526-(1.5*IQR)) & (BounceRates <= 0.003118+(1.5*IQR))]"
   ]
  },
  {
   "cell_type": "code",
   "execution_count": 50,
   "id": "77bf11f3",
   "metadata": {},
   "outputs": [
    {
     "data": {
      "text/plain": [
       "<AxesSubplot:>"
      ]
     },
     "execution_count": 50,
     "metadata": {},
     "output_type": "execute_result"
    },
    {
     "data": {
      "image/png": "[encoded data removed]",
      "text/plain": [
       "<Figure size 1728x288 with 1 Axes>"
      ]
     },
     "metadata": {},
     "output_type": "display_data"
    }
   ],
   "source": [
    "#Boxplot for BounceRates_filtered\n",
    "f = plt.figure(figsize=(24, 4))\n",
    "sb.boxplot(data = BounceRates_filtered, orient = \"h\")"
   ]
  },
  {
   "cell_type": "code",
   "execution_count": 63,
   "id": "799c5103",
   "metadata": {},
   "outputs": [],
   "source": [
    "specialDay = pd.DataFrame(osiData [['SpecialDay',\"Revenue\"]])"
   ]
  },
  {
   "cell_type": "code",
   "execution_count": null,
   "id": "39a34c69",
   "metadata": {},
   "outputs": [],
   "source": [
    "specialDay['Special Day'] = specialDay['SpecialDay'].apply(lambda x: False if x == 0 else True)\n",
    "specialDay=specialDay.drop(['SpecialDay'], axis=1)\n",
    "#how to plot 2 categorical data"
   ]
  },
  {
   "cell_type": "code",
   "execution_count": 69,
   "id": "aa724e5e",
   "metadata": {},
   "outputs": [
    {
     "name": "stdout",
     "output_type": "stream",
     "text": [
      "Proportion of \"Revenue\" being True for \"Special Day\" = False: 0.16526762343171766\n",
      "Proportion of \"Revenue\" being True for \"Special Day\" = True: 0.06155075939248601\n"
     ]
    },
    {
     "data": {
      "image/png": "[encoded data removed]",
      "text/plain": [
       "<Figure size 576x432 with 1 Axes>"
      ]
     },
     "metadata": {},
     "output_type": "display_data"
    }
   ],
   "source": [
    "# Subset the data for \"Special Day\" = False and count the number of True and False values in \"Revenue\"\n",
    "revenue_false = specialDay[specialDay['Special Day'] == 0]\n",
    "revenue_false_counts = revenue_false['Revenue'].value_counts()\n",
    "\n",
    "# Subset the data for \"Special Day\" = True and count the number of True and False values in \"Revenue\"\n",
    "revenue_true = specialDay[specialDay['Special Day'] == 1]\n",
    "revenue_true_counts = revenue_true['Revenue'].value_counts()\n",
    "\n",
    "# Calculate the proportion of True and False \"Revenue\" for each group\n",
    "false_prop = revenue_false_counts[1] / len(revenue_false)\n",
    "true_prop = revenue_true_counts[1] / len(revenue_true)\n",
    "\n",
    "# Print the proportions\n",
    "print('Proportion of \"Revenue\" being True for \"Special Day\" = False:', false_prop)\n",
    "print('Proportion of \"Revenue\" being True for \"Special Day\" = True:', true_prop)\n",
    "\n",
    "fig, ax = plt.subplots(figsize=(8, 6))\n",
    "ax.bar(['Special Day = False', 'Special Day = True'], [false_prop, true_prop], color=['blue', 'orange'])\n",
    "ax.set_ylabel('Proportion of Revenue')\n",
    "ax.set_ylim([0, 0.2])\n",
    "ax.set_title('Proportion of Revenue being True for Special Day')\n",
    "plt.show()\n",
    "\n",
    "#The lower ratio of revenue on a special day tells us that there is a larger proportion of people who purchase on a special day,\n",
    "#as compared to that during a non special day. On the other hand, on a non special day, the higher ratio means that\n",
    "#out of the total amount of people that visited the website, a smaller proportion of them chose to purchase something."
   ]
  },
  {
   "cell_type": "code",
   "execution_count": 53,
   "id": "f4a8d3d2",
   "metadata": {},
   "outputs": [],
   "source": [
    "#time period:weekend\n",
    "weekend = pd.DataFrame(osiData [['Weekend',\"Revenue\"]])"
   ]
  },
  {
   "cell_type": "code",
   "execution_count": 70,
   "id": "cab33246",
   "metadata": {},
   "outputs": [
    {
     "name": "stdout",
     "output_type": "stream",
     "text": [
      "Proportion of \"Revenue\" being True for \"Weekend\" = False: 0.1489114352145424\n",
      "Proportion of \"Revenue\" being True for \"Weekend\" = True: 0.17398884239888424\n"
     ]
    },
    {
     "data": {
      "image/png": "[encoded data removed]",
      "text/plain": [
       "<Figure size 576x432 with 1 Axes>"
      ]
     },
     "metadata": {},
     "output_type": "display_data"
    }
   ],
   "source": [
    "revenue_false = weekend[weekend['Weekend'] == 0]\n",
    "revenue_false_counts = revenue_false['Revenue'].value_counts()\n",
    "revenue_true = weekend[weekend['Weekend'] == 1]\n",
    "revenue_true_counts = revenue_true['Revenue'].value_counts()\n",
    "false_prop = revenue_false_counts[1] / len(revenue_false)\n",
    "true_prop = revenue_true_counts[1] / len(revenue_true)\n",
    "print('Proportion of \"Revenue\" being True for \"Weekend\" = False:', false_prop)\n",
    "print('Proportion of \"Revenue\" being True for \"Weekend\" = True:', true_prop)\n",
    "fig, ax = plt.subplots(figsize=(8, 6))\n",
    "ax.bar(['Weekend = False', 'Weekend = True'], [false_prop, true_prop], color=['blue', 'orange'])\n",
    "ax.set_ylabel('Proportion of Revenue')\n",
    "ax.set_ylim([0, 0.3])\n",
    "ax.set_title('Proportion of Revenue being True for Weekend')\n",
    "plt.show()\n",
    "#The lower ratio of revenue non-weekend tells us that there is a larger proportion of people who purchase on a weekday,\n",
    "#as compared to that during a weekend. On the other hand, on a weekend, the higher ratio means that\n",
    "#out of the total amount of people that visited the website, a smaller proportion of them chose to purchase something.\n",
    "#but since the difference in ratio is not that significant, weekends are not that significant in affecting whether or not a user\n",
    "#purchases something\n",
    "#so we can justify not using weekend as an indicator since it is not a strong indicator"
   ]
  },
  {
   "cell_type": "code",
   "execution_count": 55,
   "id": "1207bcdb",
   "metadata": {},
   "outputs": [
    {
     "data": {
      "image/png": "[encoded data removed]",
      "text/plain": [
       "<Figure size 360x360 with 1 Axes>"
      ]
     },
     "metadata": {},
     "output_type": "display_data"
    }
   ],
   "source": [
    "# Visitor Attributes: Operating System\n",
    "os_counts = []\n",
    "for i in range(1, 9):\n",
    "    os_data = VisitorAttributes[VisitorAttributes['OperatingSystems'] == i]\n",
    "    revenue_counts = os_data['Revenue'].value_counts()\n",
    "    os_counts.append(revenue_counts)\n",
    "# Calculate the proportion of True \"Revenue\" for each region\n",
    "#[1] because it represents true, [0] represents false\n",
    "true_proportions = []\n",
    "for counts in os_counts:\n",
    "    true_proportions.append(counts[1] / (counts[0] + counts[1]))\n",
    "fig, ax = plt.subplots(figsize=(5,5))\n",
    "ax.bar(range(1, 9), true_proportions, color='blue')\n",
    "ax.set_xlabel('Operating System')\n",
    "plt.xticks(range(1, 9))\n",
    "ax.set_ylabel('Proportion of True Revenue')\n",
    "ax.set_ylim([0, 0.3])\n",
    "ax.set_title('Proportion of True Revenue by Operating System')\n",
    "plt.show()\n",
    "#operating system of the user is rather significant as well, but we do not know what exactly each operating system stands for"
   ]
  },
  {
   "cell_type": "code",
   "execution_count": 73,
   "id": "bfd2bf42",
   "metadata": {},
   "outputs": [
    {
     "data": {
      "image/png": "[encoded data removed]",
      "text/plain": [
       "<Figure size 360x360 with 1 Axes>"
      ]
     },
     "metadata": {},
     "output_type": "display_data"
    }
   ],
   "source": [
    "browser_counts = []\n",
    "for i in range(1, 14):\n",
    "    browser_data = VisitorAttributes[VisitorAttributes['Browser'] == i]\n",
    "    revenue_counts = browser_data['Revenue'].value_counts()\n",
    "    browser_counts.append(revenue_counts)\n",
    "\n",
    "# Calculate the proportion of True \"Revenue\" for each region\n",
    "#[1] because it represents true, [0] represents false\n",
    "true_proportions = []\n",
    "for counts in browser_counts:\n",
    "    if 1 in counts.index:\n",
    "        true_proportions.append(counts[1] / sum(counts))\n",
    "    else:\n",
    "        true_proportions.append(0)\n",
    "\n",
    "fig, ax = plt.subplots(figsize=(5,5))\n",
    "ax.bar(range(1, 14), true_proportions, color='blue')\n",
    "ax.set_xlabel('Browser')\n",
    "plt.xticks(range(1, 14))\n",
    "ax.set_ylabel('Proportion of True Revenue')\n",
    "ax.set_ylim([0, 0.4])\n",
    "ax.set_title('Proportion of True Revenue by Browser')\n",
    "plt.show()"
   ]
  },
  {
   "cell_type": "code",
   "execution_count": 57,
   "id": "772586c4",
   "metadata": {},
   "outputs": [
    {
     "data": {
      "image/png": "[encoded data removed]",
      "text/plain": [
       "<Figure size 360x360 with 1 Axes>"
      ]
     },
     "metadata": {},
     "output_type": "display_data"
    }
   ],
   "source": [
    "# Visitor Attributes: traffic_data\n",
    "traffic_counts = []\n",
    "for i in range(1, 21):\n",
    "    traffic_data = VisitorAttributes[VisitorAttributes['TrafficType'] == i]\n",
    "    revenue_counts = traffic_data['Revenue'].value_counts()\n",
    "    traffic_counts.append(revenue_counts)\n",
    "# Calculate the proportion of True \"Revenue\" for each region\n",
    "#[1] because it represents true, [0] represents false\n",
    "true_proportions = []\n",
    "for counts in traffic_counts:\n",
    "    if 1 in counts.index:\n",
    "        true_proportions.append(counts[1] / sum(counts))\n",
    "    else:\n",
    "        true_proportions.append(0)\n",
    "fig, ax = plt.subplots(figsize=(5,5))\n",
    "ax.bar(range(1, 21), true_proportions, color='blue')\n",
    "ax.set_xlabel('Traffic Type')\n",
    "plt.xticks(range(1, 21))\n",
    "ax.set_ylabel('Proportion of True Revenue')\n",
    "ax.set_ylim([0, 0.4])\n",
    "ax.set_title('Proportion of True Revenue by Traffic Type')\n",
    "plt.show()"
   ]
  },
  {
   "cell_type": "code",
   "execution_count": 58,
   "id": "a6c73bcf",
   "metadata": {},
   "outputs": [
    {
     "data": {
      "image/png": "[encoded data removed]",
      "text/plain": [
       "<Figure size 576x432 with 1 Axes>"
      ]
     },
     "metadata": {},
     "output_type": "display_data"
    }
   ],
   "source": [
    "# Visitor Attributes: region\n",
    "region_counts = []\n",
    "for i in range(1, 10):\n",
    "    region_data = VisitorAttributes[VisitorAttributes['Region'] == i]\n",
    "    revenue_counts = region_data['Revenue'].value_counts()\n",
    "    region_counts.append(revenue_counts)\n",
    "# Calculate the proportion of True \"Revenue\" for each region\n",
    "#[1] because it represents true, [0] represents false\n",
    "true_proportions = []\n",
    "for counts in region_counts:\n",
    "    true_proportions.append(counts[1] / sum(counts))\n",
    "fig, ax = plt.subplots(figsize=(8, 6))\n",
    "ax.bar(range(1, 10), true_proportions, color='blue')\n",
    "ax.set_xlabel('Region')\n",
    "plt.xticks(range(1, 10))\n",
    "ax.set_ylabel('Proportion of True Revenue')\n",
    "ax.set_ylim([0, 0.2])\n",
    "ax.set_title('Proportion of True Revenue by Region')\n",
    "plt.show()\n",
    "#from here we can tell that region does not really affect the revenue (whether or not the customer chooses to buy)"
   ]
  },
  {
   "cell_type": "code",
   "execution_count": 59,
   "id": "11223fb4",
   "metadata": {},
   "outputs": [
    {
     "data": {
      "image/png": "[encoded data removed]",
      "text/plain": [
       "<Figure size 576x432 with 1 Axes>"
      ]
     },
     "metadata": {},
     "output_type": "display_data"
    }
   ],
   "source": [
    "# Visitor Attributes:visitor type\n",
    "# Subset the data for each region and count the number of True and False values in \"Revenue\"\n",
    "vtype_counts = []\n",
    "for vtype in ['New_Visitor', 'Returning_Visitor', 'Other']:\n",
    "    vtype_data = VisitorAttributes[VisitorAttributes['VisitorType'] == vtype]\n",
    "    revenue_counts = vtype_data['Revenue'].value_counts()\n",
    "    vtype_counts.append(revenue_counts)\n",
    "# Calculate the proportion of True \"Revenue\" for each visitor type\n",
    "true_proportions = []\n",
    "for counts in vtype_counts:\n",
    "    true_proportions.append(counts[1] / sum(counts))\n",
    "# Create a bar plot of the proportion of True \"Revenue\" by visitor type\n",
    "fig, ax = plt.subplots(figsize=(8, 6))\n",
    "ax.bar(['New_Visitor', 'Returning_Visitor', 'Other'], true_proportions, color='blue')\n",
    "ax.set_xlabel('Visitor Type')\n",
    "ax.set_ylabel('Proportion of True Revenue')\n",
    "ax.set_ylim([0, 0.4])\n",
    "ax.set_title('Proportion of True Revenue by Visitor Type')\n",
    "plt.show()\n",
    "#the visitor type is relatively quite significant in affecting whether or not the visitor purchases something\n",
    "#new vistiors are most likely to purchases something\n",
    "#returning visitors are least likely to purchase something"
   ]
  },
  {
   "cell_type": "code",
   "execution_count": null,
   "id": "30e2081d",
   "metadata": {},
   "outputs": [],
   "source": []
  },
  {
   "cell_type": "code",
   "execution_count": null,
   "id": "75a391fb",
   "metadata": {},
   "outputs": [],
   "source": []
  },
  {
   "cell_type": "code",
   "execution_count": null,
   "id": "bd6ddb14",
   "metadata": {},
   "outputs": [],
   "source": []
  }
 ],
 "metadata": {
  "kernelspec": {
   "display_name": "Python 3 (ipykernel)",
   "language": "python",
   "name": "python3"
  },
  "language_info": {
   "codemirror_mode": {
    "name": "ipython",
    "version": 3
   },
   "file_extension": ".py",
   "mimetype": "text/x-python",
   "name": "python",
   "nbconvert_exporter": "python",
   "pygments_lexer": "ipython3",
   "version": "3.9.12"
  }
 },
 "nbformat": 4,
 "nbformat_minor": 5
}
