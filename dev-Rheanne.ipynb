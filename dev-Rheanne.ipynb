{
 "cells": [
  {
   "cell_type": "code",
   "execution_count": 832,
   "id": "90a8081c",
   "metadata": {},
   "outputs": [],
   "source": [
    "# Basic Libraries\n",
    "import numpy as np\n",
    "import pandas as pd\n",
    "import seaborn as sb\n",
    "import matplotlib.pyplot as plt # we only need pyplot\n",
    "sb.set() # set the default Seaborn style for graphics\n",
    "from scipy.stats import chi2_contingency"
   ]
  },
  {
   "cell_type": "markdown",
   "id": "64c8ebdc",
   "metadata": {},
   "source": [
    "# <font color=pink> Data Preparation"
   ]
  },
  {
   "cell_type": "code",
   "execution_count": 833,
   "id": "ead90d79",
   "metadata": {
    "scrolled": false
   },
   "outputs": [
    {
     "data": {
      "text/html": [
       "<div>\n",
       "<style scoped>\n",
       "    .dataframe tbody tr th:only-of-type {\n",
       "        vertical-align: middle;\n",
       "    }\n",
       "\n",
       "    .dataframe tbody tr th {\n",
       "        vertical-align: top;\n",
       "    }\n",
       "\n",
       "    .dataframe thead th {\n",
       "        text-align: right;\n",
       "    }\n",
       "</style>\n",
       "<table border=\"1\" class=\"dataframe\">\n",
       "  <thead>\n",
       "    <tr style=\"text-align: right;\">\n",
       "      <th></th>\n",
       "      <th>ID</th>\n",
       "      <th>Year_Birth</th>\n",
       "      <th>Education</th>\n",
       "      <th>Marital_Status</th>\n",
       "      <th>Income</th>\n",
       "      <th>Kidhome</th>\n",
       "      <th>Teenhome</th>\n",
       "      <th>Dt_Customer</th>\n",
       "      <th>Recency</th>\n",
       "      <th>MntWines</th>\n",
       "      <th>...</th>\n",
       "      <th>NumWebVisitsMonth</th>\n",
       "      <th>AcceptedCmp3</th>\n",
       "      <th>AcceptedCmp4</th>\n",
       "      <th>AcceptedCmp5</th>\n",
       "      <th>AcceptedCmp1</th>\n",
       "      <th>AcceptedCmp2</th>\n",
       "      <th>Complain</th>\n",
       "      <th>Z_CostContact</th>\n",
       "      <th>Z_Revenue</th>\n",
       "      <th>Response</th>\n",
       "    </tr>\n",
       "  </thead>\n",
       "  <tbody>\n",
       "    <tr>\n",
       "      <th>0</th>\n",
       "      <td>5524</td>\n",
       "      <td>1957</td>\n",
       "      <td>Graduation</td>\n",
       "      <td>Single</td>\n",
       "      <td>58138.0</td>\n",
       "      <td>0</td>\n",
       "      <td>0</td>\n",
       "      <td>4/9/2012</td>\n",
       "      <td>58</td>\n",
       "      <td>635</td>\n",
       "      <td>...</td>\n",
       "      <td>7</td>\n",
       "      <td>0</td>\n",
       "      <td>0</td>\n",
       "      <td>0</td>\n",
       "      <td>0</td>\n",
       "      <td>0</td>\n",
       "      <td>0</td>\n",
       "      <td>3</td>\n",
       "      <td>11</td>\n",
       "      <td>1</td>\n",
       "    </tr>\n",
       "    <tr>\n",
       "      <th>1</th>\n",
       "      <td>2174</td>\n",
       "      <td>1954</td>\n",
       "      <td>Graduation</td>\n",
       "      <td>Single</td>\n",
       "      <td>46344.0</td>\n",
       "      <td>1</td>\n",
       "      <td>1</td>\n",
       "      <td>8/3/2014</td>\n",
       "      <td>38</td>\n",
       "      <td>11</td>\n",
       "      <td>...</td>\n",
       "      <td>5</td>\n",
       "      <td>0</td>\n",
       "      <td>0</td>\n",
       "      <td>0</td>\n",
       "      <td>0</td>\n",
       "      <td>0</td>\n",
       "      <td>0</td>\n",
       "      <td>3</td>\n",
       "      <td>11</td>\n",
       "      <td>0</td>\n",
       "    </tr>\n",
       "    <tr>\n",
       "      <th>2</th>\n",
       "      <td>4141</td>\n",
       "      <td>1965</td>\n",
       "      <td>Graduation</td>\n",
       "      <td>Together</td>\n",
       "      <td>71613.0</td>\n",
       "      <td>0</td>\n",
       "      <td>0</td>\n",
       "      <td>21/8/2013</td>\n",
       "      <td>26</td>\n",
       "      <td>426</td>\n",
       "      <td>...</td>\n",
       "      <td>4</td>\n",
       "      <td>0</td>\n",
       "      <td>0</td>\n",
       "      <td>0</td>\n",
       "      <td>0</td>\n",
       "      <td>0</td>\n",
       "      <td>0</td>\n",
       "      <td>3</td>\n",
       "      <td>11</td>\n",
       "      <td>0</td>\n",
       "    </tr>\n",
       "    <tr>\n",
       "      <th>3</th>\n",
       "      <td>6182</td>\n",
       "      <td>1984</td>\n",
       "      <td>Graduation</td>\n",
       "      <td>Together</td>\n",
       "      <td>26646.0</td>\n",
       "      <td>1</td>\n",
       "      <td>0</td>\n",
       "      <td>10/2/2014</td>\n",
       "      <td>26</td>\n",
       "      <td>11</td>\n",
       "      <td>...</td>\n",
       "      <td>6</td>\n",
       "      <td>0</td>\n",
       "      <td>0</td>\n",
       "      <td>0</td>\n",
       "      <td>0</td>\n",
       "      <td>0</td>\n",
       "      <td>0</td>\n",
       "      <td>3</td>\n",
       "      <td>11</td>\n",
       "      <td>0</td>\n",
       "    </tr>\n",
       "    <tr>\n",
       "      <th>4</th>\n",
       "      <td>5324</td>\n",
       "      <td>1981</td>\n",
       "      <td>PhD</td>\n",
       "      <td>Married</td>\n",
       "      <td>58293.0</td>\n",
       "      <td>1</td>\n",
       "      <td>0</td>\n",
       "      <td>19/1/2014</td>\n",
       "      <td>94</td>\n",
       "      <td>173</td>\n",
       "      <td>...</td>\n",
       "      <td>5</td>\n",
       "      <td>0</td>\n",
       "      <td>0</td>\n",
       "      <td>0</td>\n",
       "      <td>0</td>\n",
       "      <td>0</td>\n",
       "      <td>0</td>\n",
       "      <td>3</td>\n",
       "      <td>11</td>\n",
       "      <td>0</td>\n",
       "    </tr>\n",
       "  </tbody>\n",
       "</table>\n",
       "<p>5 rows × 29 columns</p>\n",
       "</div>"
      ],
      "text/plain": [
       "     ID  Year_Birth   Education Marital_Status   Income  Kidhome  Teenhome  \\\n",
       "0  5524        1957  Graduation         Single  58138.0        0         0   \n",
       "1  2174        1954  Graduation         Single  46344.0        1         1   \n",
       "2  4141        1965  Graduation       Together  71613.0        0         0   \n",
       "3  6182        1984  Graduation       Together  26646.0        1         0   \n",
       "4  5324        1981         PhD        Married  58293.0        1         0   \n",
       "\n",
       "  Dt_Customer  Recency  MntWines  ...  NumWebVisitsMonth  AcceptedCmp3  \\\n",
       "0    4/9/2012       58       635  ...                  7             0   \n",
       "1    8/3/2014       38        11  ...                  5             0   \n",
       "2   21/8/2013       26       426  ...                  4             0   \n",
       "3   10/2/2014       26        11  ...                  6             0   \n",
       "4   19/1/2014       94       173  ...                  5             0   \n",
       "\n",
       "   AcceptedCmp4  AcceptedCmp5  AcceptedCmp1  AcceptedCmp2  Complain  \\\n",
       "0             0             0             0             0         0   \n",
       "1             0             0             0             0         0   \n",
       "2             0             0             0             0         0   \n",
       "3             0             0             0             0         0   \n",
       "4             0             0             0             0         0   \n",
       "\n",
       "   Z_CostContact  Z_Revenue  Response  \n",
       "0              3         11         1  \n",
       "1              3         11         0  \n",
       "2              3         11         0  \n",
       "3              3         11         0  \n",
       "4              3         11         0  \n",
       "\n",
       "[5 rows x 29 columns]"
      ]
     },
     "execution_count": 833,
     "metadata": {},
     "output_type": "execute_result"
    }
   ],
   "source": [
    "#Importing dataset\n",
    "CustomerData = pd.read_csv('CustmPersonalityData.csv')\n",
    "CustomerData.head()"
   ]
  },
  {
   "cell_type": "code",
   "execution_count": 834,
   "id": "cca432fd",
   "metadata": {
    "scrolled": true
   },
   "outputs": [
    {
     "name": "stdout",
     "output_type": "stream",
     "text": [
      "<class 'pandas.core.frame.DataFrame'>\n",
      "RangeIndex: 2240 entries, 0 to 2239\n",
      "Data columns (total 29 columns):\n",
      " #   Column               Non-Null Count  Dtype  \n",
      "---  ------               --------------  -----  \n",
      " 0   ID                   2240 non-null   int64  \n",
      " 1   Year_Birth           2240 non-null   int64  \n",
      " 2   Education            2240 non-null   object \n",
      " 3   Marital_Status       2240 non-null   object \n",
      " 4   Income               2216 non-null   float64\n",
      " 5   Kidhome              2240 non-null   int64  \n",
      " 6   Teenhome             2240 non-null   int64  \n",
      " 7   Dt_Customer          2240 non-null   object \n",
      " 8   Recency              2240 non-null   int64  \n",
      " 9   MntWines             2240 non-null   int64  \n",
      " 10  MntFruits            2240 non-null   int64  \n",
      " 11  MntMeatProducts      2240 non-null   int64  \n",
      " 12  MntFishProducts      2240 non-null   int64  \n",
      " 13  MntSweetProducts     2240 non-null   int64  \n",
      " 14  MntGoldProds         2240 non-null   int64  \n",
      " 15  NumDealsPurchases    2240 non-null   int64  \n",
      " 16  NumWebPurchases      2240 non-null   int64  \n",
      " 17  NumCatalogPurchases  2240 non-null   int64  \n",
      " 18  NumStorePurchases    2240 non-null   int64  \n",
      " 19  NumWebVisitsMonth    2240 non-null   int64  \n",
      " 20  AcceptedCmp3         2240 non-null   int64  \n",
      " 21  AcceptedCmp4         2240 non-null   int64  \n",
      " 22  AcceptedCmp5         2240 non-null   int64  \n",
      " 23  AcceptedCmp1         2240 non-null   int64  \n",
      " 24  AcceptedCmp2         2240 non-null   int64  \n",
      " 25  Complain             2240 non-null   int64  \n",
      " 26  Z_CostContact        2240 non-null   int64  \n",
      " 27  Z_Revenue            2240 non-null   int64  \n",
      " 28  Response             2240 non-null   int64  \n",
      "dtypes: float64(1), int64(25), object(3)\n",
      "memory usage: 507.6+ KB\n"
     ]
    }
   ],
   "source": [
    "CustomerData.info()"
   ]
  },
  {
   "cell_type": "code",
   "execution_count": 835,
   "id": "d618b2ad",
   "metadata": {},
   "outputs": [],
   "source": [
    "#Dropping duplicates\n",
    "CustomerData = CustomerData.drop_duplicates()"
   ]
  },
  {
   "cell_type": "code",
   "execution_count": 836,
   "id": "8adb6969",
   "metadata": {
    "scrolled": true
   },
   "outputs": [
    {
     "name": "stdout",
     "output_type": "stream",
     "text": [
      "<class 'pandas.core.frame.DataFrame'>\n",
      "Int64Index: 2240 entries, 0 to 2239\n",
      "Data columns (total 29 columns):\n",
      " #   Column               Non-Null Count  Dtype  \n",
      "---  ------               --------------  -----  \n",
      " 0   ID                   2240 non-null   int64  \n",
      " 1   Year_Birth           2240 non-null   int64  \n",
      " 2   Education            2240 non-null   object \n",
      " 3   Marital_Status       2240 non-null   object \n",
      " 4   Income               2216 non-null   float64\n",
      " 5   Kidhome              2240 non-null   int64  \n",
      " 6   Teenhome             2240 non-null   int64  \n",
      " 7   Dt_Customer          2240 non-null   object \n",
      " 8   Recency              2240 non-null   int64  \n",
      " 9   MntWines             2240 non-null   int64  \n",
      " 10  MntFruits            2240 non-null   int64  \n",
      " 11  MntMeatProducts      2240 non-null   int64  \n",
      " 12  MntFishProducts      2240 non-null   int64  \n",
      " 13  MntSweetProducts     2240 non-null   int64  \n",
      " 14  MntGoldProds         2240 non-null   int64  \n",
      " 15  NumDealsPurchases    2240 non-null   int64  \n",
      " 16  NumWebPurchases      2240 non-null   int64  \n",
      " 17  NumCatalogPurchases  2240 non-null   int64  \n",
      " 18  NumStorePurchases    2240 non-null   int64  \n",
      " 19  NumWebVisitsMonth    2240 non-null   int64  \n",
      " 20  AcceptedCmp3         2240 non-null   int64  \n",
      " 21  AcceptedCmp4         2240 non-null   int64  \n",
      " 22  AcceptedCmp5         2240 non-null   int64  \n",
      " 23  AcceptedCmp1         2240 non-null   int64  \n",
      " 24  AcceptedCmp2         2240 non-null   int64  \n",
      " 25  Complain             2240 non-null   int64  \n",
      " 26  Z_CostContact        2240 non-null   int64  \n",
      " 27  Z_Revenue            2240 non-null   int64  \n",
      " 28  Response             2240 non-null   int64  \n",
      "dtypes: float64(1), int64(25), object(3)\n",
      "memory usage: 525.0+ KB\n"
     ]
    }
   ],
   "source": [
    "#Checking if any duplicate values were dropped(No duplicates)\n",
    "CustomerData.info()"
   ]
  },
  {
   "cell_type": "code",
   "execution_count": 837,
   "id": "9ddc822a",
   "metadata": {
    "scrolled": true
   },
   "outputs": [
    {
     "data": {
      "text/html": [
       "<div>\n",
       "<style scoped>\n",
       "    .dataframe tbody tr th:only-of-type {\n",
       "        vertical-align: middle;\n",
       "    }\n",
       "\n",
       "    .dataframe tbody tr th {\n",
       "        vertical-align: top;\n",
       "    }\n",
       "\n",
       "    .dataframe thead th {\n",
       "        text-align: right;\n",
       "    }\n",
       "</style>\n",
       "<table border=\"1\" class=\"dataframe\">\n",
       "  <thead>\n",
       "    <tr style=\"text-align: right;\">\n",
       "      <th></th>\n",
       "      <th>Response</th>\n",
       "    </tr>\n",
       "  </thead>\n",
       "  <tbody>\n",
       "    <tr>\n",
       "      <th>0</th>\n",
       "      <td>1</td>\n",
       "    </tr>\n",
       "    <tr>\n",
       "      <th>1</th>\n",
       "      <td>0</td>\n",
       "    </tr>\n",
       "    <tr>\n",
       "      <th>2</th>\n",
       "      <td>0</td>\n",
       "    </tr>\n",
       "    <tr>\n",
       "      <th>3</th>\n",
       "      <td>0</td>\n",
       "    </tr>\n",
       "    <tr>\n",
       "      <th>4</th>\n",
       "      <td>0</td>\n",
       "    </tr>\n",
       "  </tbody>\n",
       "</table>\n",
       "</div>"
      ],
      "text/plain": [
       "   Response\n",
       "0         1\n",
       "1         0\n",
       "2         0\n",
       "3         0\n",
       "4         0"
      ]
     },
     "execution_count": 837,
     "metadata": {},
     "output_type": "execute_result"
    }
   ],
   "source": [
    "#Separating the response variable into a different dataframe\n",
    "Response = pd.DataFrame(CustomerData[\"Response\"])\n",
    "Response.head()"
   ]
  },
  {
   "cell_type": "code",
   "execution_count": 838,
   "id": "f10a24f0",
   "metadata": {
    "scrolled": true
   },
   "outputs": [
    {
     "data": {
      "text/html": [
       "<div>\n",
       "<style scoped>\n",
       "    .dataframe tbody tr th:only-of-type {\n",
       "        vertical-align: middle;\n",
       "    }\n",
       "\n",
       "    .dataframe tbody tr th {\n",
       "        vertical-align: top;\n",
       "    }\n",
       "\n",
       "    .dataframe thead th {\n",
       "        text-align: right;\n",
       "    }\n",
       "</style>\n",
       "<table border=\"1\" class=\"dataframe\">\n",
       "  <thead>\n",
       "    <tr style=\"text-align: right;\">\n",
       "      <th></th>\n",
       "      <th>ID</th>\n",
       "      <th>Year_Birth</th>\n",
       "      <th>Education</th>\n",
       "      <th>Marital_Status</th>\n",
       "      <th>Income</th>\n",
       "      <th>Kidhome</th>\n",
       "      <th>Teenhome</th>\n",
       "      <th>DurationJoined</th>\n",
       "      <th>Recency</th>\n",
       "      <th>MntWines</th>\n",
       "      <th>...</th>\n",
       "      <th>NumWebVisitsMonth</th>\n",
       "      <th>AcceptedCmp3</th>\n",
       "      <th>AcceptedCmp4</th>\n",
       "      <th>AcceptedCmp5</th>\n",
       "      <th>AcceptedCmp1</th>\n",
       "      <th>AcceptedCmp2</th>\n",
       "      <th>Complain</th>\n",
       "      <th>Z_CostContact</th>\n",
       "      <th>Z_Revenue</th>\n",
       "      <th>Response</th>\n",
       "    </tr>\n",
       "  </thead>\n",
       "  <tbody>\n",
       "    <tr>\n",
       "      <th>0</th>\n",
       "      <td>5524</td>\n",
       "      <td>1957</td>\n",
       "      <td>Graduation</td>\n",
       "      <td>Single</td>\n",
       "      <td>58138.0</td>\n",
       "      <td>0</td>\n",
       "      <td>0</td>\n",
       "      <td>11</td>\n",
       "      <td>58</td>\n",
       "      <td>635</td>\n",
       "      <td>...</td>\n",
       "      <td>7</td>\n",
       "      <td>0</td>\n",
       "      <td>0</td>\n",
       "      <td>0</td>\n",
       "      <td>0</td>\n",
       "      <td>0</td>\n",
       "      <td>0</td>\n",
       "      <td>3</td>\n",
       "      <td>11</td>\n",
       "      <td>1</td>\n",
       "    </tr>\n",
       "    <tr>\n",
       "      <th>1</th>\n",
       "      <td>2174</td>\n",
       "      <td>1954</td>\n",
       "      <td>Graduation</td>\n",
       "      <td>Single</td>\n",
       "      <td>46344.0</td>\n",
       "      <td>1</td>\n",
       "      <td>1</td>\n",
       "      <td>9</td>\n",
       "      <td>38</td>\n",
       "      <td>11</td>\n",
       "      <td>...</td>\n",
       "      <td>5</td>\n",
       "      <td>0</td>\n",
       "      <td>0</td>\n",
       "      <td>0</td>\n",
       "      <td>0</td>\n",
       "      <td>0</td>\n",
       "      <td>0</td>\n",
       "      <td>3</td>\n",
       "      <td>11</td>\n",
       "      <td>0</td>\n",
       "    </tr>\n",
       "    <tr>\n",
       "      <th>2</th>\n",
       "      <td>4141</td>\n",
       "      <td>1965</td>\n",
       "      <td>Graduation</td>\n",
       "      <td>Together</td>\n",
       "      <td>71613.0</td>\n",
       "      <td>0</td>\n",
       "      <td>0</td>\n",
       "      <td>10</td>\n",
       "      <td>26</td>\n",
       "      <td>426</td>\n",
       "      <td>...</td>\n",
       "      <td>4</td>\n",
       "      <td>0</td>\n",
       "      <td>0</td>\n",
       "      <td>0</td>\n",
       "      <td>0</td>\n",
       "      <td>0</td>\n",
       "      <td>0</td>\n",
       "      <td>3</td>\n",
       "      <td>11</td>\n",
       "      <td>0</td>\n",
       "    </tr>\n",
       "    <tr>\n",
       "      <th>3</th>\n",
       "      <td>6182</td>\n",
       "      <td>1984</td>\n",
       "      <td>Graduation</td>\n",
       "      <td>Together</td>\n",
       "      <td>26646.0</td>\n",
       "      <td>1</td>\n",
       "      <td>0</td>\n",
       "      <td>9</td>\n",
       "      <td>26</td>\n",
       "      <td>11</td>\n",
       "      <td>...</td>\n",
       "      <td>6</td>\n",
       "      <td>0</td>\n",
       "      <td>0</td>\n",
       "      <td>0</td>\n",
       "      <td>0</td>\n",
       "      <td>0</td>\n",
       "      <td>0</td>\n",
       "      <td>3</td>\n",
       "      <td>11</td>\n",
       "      <td>0</td>\n",
       "    </tr>\n",
       "    <tr>\n",
       "      <th>4</th>\n",
       "      <td>5324</td>\n",
       "      <td>1981</td>\n",
       "      <td>PhD</td>\n",
       "      <td>Married</td>\n",
       "      <td>58293.0</td>\n",
       "      <td>1</td>\n",
       "      <td>0</td>\n",
       "      <td>9</td>\n",
       "      <td>94</td>\n",
       "      <td>173</td>\n",
       "      <td>...</td>\n",
       "      <td>5</td>\n",
       "      <td>0</td>\n",
       "      <td>0</td>\n",
       "      <td>0</td>\n",
       "      <td>0</td>\n",
       "      <td>0</td>\n",
       "      <td>0</td>\n",
       "      <td>3</td>\n",
       "      <td>11</td>\n",
       "      <td>0</td>\n",
       "    </tr>\n",
       "  </tbody>\n",
       "</table>\n",
       "<p>5 rows × 29 columns</p>\n",
       "</div>"
      ],
      "text/plain": [
       "     ID  Year_Birth   Education Marital_Status   Income  Kidhome  Teenhome  \\\n",
       "0  5524        1957  Graduation         Single  58138.0        0         0   \n",
       "1  2174        1954  Graduation         Single  46344.0        1         1   \n",
       "2  4141        1965  Graduation       Together  71613.0        0         0   \n",
       "3  6182        1984  Graduation       Together  26646.0        1         0   \n",
       "4  5324        1981         PhD        Married  58293.0        1         0   \n",
       "\n",
       "   DurationJoined  Recency  MntWines  ...  NumWebVisitsMonth  AcceptedCmp3  \\\n",
       "0              11       58       635  ...                  7             0   \n",
       "1               9       38        11  ...                  5             0   \n",
       "2              10       26       426  ...                  4             0   \n",
       "3               9       26        11  ...                  6             0   \n",
       "4               9       94       173  ...                  5             0   \n",
       "\n",
       "   AcceptedCmp4  AcceptedCmp5  AcceptedCmp1  AcceptedCmp2  Complain  \\\n",
       "0             0             0             0             0         0   \n",
       "1             0             0             0             0         0   \n",
       "2             0             0             0             0         0   \n",
       "3             0             0             0             0         0   \n",
       "4             0             0             0             0         0   \n",
       "\n",
       "   Z_CostContact  Z_Revenue  Response  \n",
       "0              3         11         1  \n",
       "1              3         11         0  \n",
       "2              3         11         0  \n",
       "3              3         11         0  \n",
       "4              3         11         0  \n",
       "\n",
       "[5 rows x 29 columns]"
      ]
     },
     "execution_count": 838,
     "metadata": {},
     "output_type": "execute_result"
    }
   ],
   "source": [
    "#Converting Dt_Customer to just the year\n",
    "CustomerData['Dt_Customer'] = 2023 - pd.to_datetime(CustomerData['Dt_Customer'], format='%d/%m/%Y').dt.year\n",
    "CustomerData = CustomerData.rename(columns={'Dt_Customer': 'DurationJoined'})\n",
    "CustomerData.head()"
   ]
  },
  {
   "cell_type": "code",
   "execution_count": 839,
   "id": "cd082b0d",
   "metadata": {},
   "outputs": [],
   "source": [
    "#dropping the attributes which are not helpful in our analysis based on their descriptions\n",
    "CustomerData = CustomerData.drop(['Z_CostContact', 'Z_Revenue'], axis=1)"
   ]
  },
  {
   "cell_type": "markdown",
   "id": "e689074a",
   "metadata": {},
   "source": [
    "### <font color = pink> Creating DataFrame of only numerical data\n",
    "    Dropping variables that are categorical + those that we want to convert from numerical to categorical(Kidhome, Teenhome)"
   ]
  },
  {
   "cell_type": "code",
   "execution_count": 840,
   "id": "ba49035f",
   "metadata": {
    "scrolled": true
   },
   "outputs": [],
   "source": [
    "NumericalCustomerData = CustomerData.select_dtypes(include=['int64', 'float64'])\n",
    "NumericalCustomerData = NumericalCustomerData.drop(['Complain', 'AcceptedCmp1', 'AcceptedCmp2', 'AcceptedCmp3', 'AcceptedCmp4', 'AcceptedCmp5', 'ID', 'Recency', 'Response'], axis=1)"
   ]
  },
  {
   "cell_type": "code",
   "execution_count": 841,
   "id": "9aa5ae54",
   "metadata": {
    "scrolled": true
   },
   "outputs": [
    {
     "name": "stdout",
     "output_type": "stream",
     "text": [
      "<class 'pandas.core.frame.DataFrame'>\n",
      "Int64Index: 2240 entries, 0 to 2239\n",
      "Data columns (total 16 columns):\n",
      " #   Column               Non-Null Count  Dtype  \n",
      "---  ------               --------------  -----  \n",
      " 0   Year_Birth           2240 non-null   int64  \n",
      " 1   Income               2216 non-null   float64\n",
      " 2   Kidhome              2240 non-null   int64  \n",
      " 3   Teenhome             2240 non-null   int64  \n",
      " 4   DurationJoined       2240 non-null   int64  \n",
      " 5   MntWines             2240 non-null   int64  \n",
      " 6   MntFruits            2240 non-null   int64  \n",
      " 7   MntMeatProducts      2240 non-null   int64  \n",
      " 8   MntFishProducts      2240 non-null   int64  \n",
      " 9   MntSweetProducts     2240 non-null   int64  \n",
      " 10  MntGoldProds         2240 non-null   int64  \n",
      " 11  NumDealsPurchases    2240 non-null   int64  \n",
      " 12  NumWebPurchases      2240 non-null   int64  \n",
      " 13  NumCatalogPurchases  2240 non-null   int64  \n",
      " 14  NumStorePurchases    2240 non-null   int64  \n",
      " 15  NumWebVisitsMonth    2240 non-null   int64  \n",
      "dtypes: float64(1), int64(15)\n",
      "memory usage: 297.5 KB\n"
     ]
    }
   ],
   "source": [
    "NumericalCustomerData.info()"
   ]
  },
  {
   "cell_type": "markdown",
   "id": "e75abcc1",
   "metadata": {},
   "source": [
    "### <font color = pink> Creating DataFrame for categorical data "
   ]
  },
  {
   "cell_type": "code",
   "execution_count": 842,
   "id": "bd7d187e",
   "metadata": {
    "scrolled": true
   },
   "outputs": [
    {
     "data": {
      "text/html": [
       "<div>\n",
       "<style scoped>\n",
       "    .dataframe tbody tr th:only-of-type {\n",
       "        vertical-align: middle;\n",
       "    }\n",
       "\n",
       "    .dataframe tbody tr th {\n",
       "        vertical-align: top;\n",
       "    }\n",
       "\n",
       "    .dataframe thead th {\n",
       "        text-align: right;\n",
       "    }\n",
       "</style>\n",
       "<table border=\"1\" class=\"dataframe\">\n",
       "  <thead>\n",
       "    <tr style=\"text-align: right;\">\n",
       "      <th></th>\n",
       "      <th>Education</th>\n",
       "      <th>Marital_Status</th>\n",
       "      <th>Complain</th>\n",
       "      <th>AcceptedCmp1</th>\n",
       "      <th>AcceptedCmp2</th>\n",
       "      <th>AcceptedCmp3</th>\n",
       "      <th>AcceptedCmp4</th>\n",
       "      <th>AcceptedCmp5</th>\n",
       "    </tr>\n",
       "  </thead>\n",
       "  <tbody>\n",
       "    <tr>\n",
       "      <th>0</th>\n",
       "      <td>Graduation</td>\n",
       "      <td>Single</td>\n",
       "      <td>0</td>\n",
       "      <td>0</td>\n",
       "      <td>0</td>\n",
       "      <td>0</td>\n",
       "      <td>0</td>\n",
       "      <td>0</td>\n",
       "    </tr>\n",
       "    <tr>\n",
       "      <th>1</th>\n",
       "      <td>Graduation</td>\n",
       "      <td>Single</td>\n",
       "      <td>0</td>\n",
       "      <td>0</td>\n",
       "      <td>0</td>\n",
       "      <td>0</td>\n",
       "      <td>0</td>\n",
       "      <td>0</td>\n",
       "    </tr>\n",
       "    <tr>\n",
       "      <th>2</th>\n",
       "      <td>Graduation</td>\n",
       "      <td>Together</td>\n",
       "      <td>0</td>\n",
       "      <td>0</td>\n",
       "      <td>0</td>\n",
       "      <td>0</td>\n",
       "      <td>0</td>\n",
       "      <td>0</td>\n",
       "    </tr>\n",
       "    <tr>\n",
       "      <th>3</th>\n",
       "      <td>Graduation</td>\n",
       "      <td>Together</td>\n",
       "      <td>0</td>\n",
       "      <td>0</td>\n",
       "      <td>0</td>\n",
       "      <td>0</td>\n",
       "      <td>0</td>\n",
       "      <td>0</td>\n",
       "    </tr>\n",
       "    <tr>\n",
       "      <th>4</th>\n",
       "      <td>PhD</td>\n",
       "      <td>Married</td>\n",
       "      <td>0</td>\n",
       "      <td>0</td>\n",
       "      <td>0</td>\n",
       "      <td>0</td>\n",
       "      <td>0</td>\n",
       "      <td>0</td>\n",
       "    </tr>\n",
       "  </tbody>\n",
       "</table>\n",
       "</div>"
      ],
      "text/plain": [
       "    Education Marital_Status  Complain  AcceptedCmp1  AcceptedCmp2  \\\n",
       "0  Graduation         Single         0             0             0   \n",
       "1  Graduation         Single         0             0             0   \n",
       "2  Graduation       Together         0             0             0   \n",
       "3  Graduation       Together         0             0             0   \n",
       "4         PhD        Married         0             0             0   \n",
       "\n",
       "   AcceptedCmp3  AcceptedCmp4  AcceptedCmp5  \n",
       "0             0             0             0  \n",
       "1             0             0             0  \n",
       "2             0             0             0  \n",
       "3             0             0             0  \n",
       "4             0             0             0  "
      ]
     },
     "execution_count": 842,
     "metadata": {},
     "output_type": "execute_result"
    }
   ],
   "source": [
    "CategoricalCustomerData = pd.DataFrame(CustomerData[[ \"Education\", \"Marital_Status\", 'Complain', \"AcceptedCmp1\", \"AcceptedCmp2\", \"AcceptedCmp3\", \"AcceptedCmp4\", \"AcceptedCmp5\"]])\n",
    "CategoricalCustomerData.head()"
   ]
  },
  {
   "cell_type": "code",
   "execution_count": 843,
   "id": "b62cb702",
   "metadata": {},
   "outputs": [
    {
     "name": "stdout",
     "output_type": "stream",
     "text": [
      "<class 'pandas.core.frame.DataFrame'>\n",
      "Int64Index: 2240 entries, 0 to 2239\n",
      "Data columns (total 8 columns):\n",
      " #   Column          Non-Null Count  Dtype \n",
      "---  ------          --------------  ----- \n",
      " 0   Education       2240 non-null   object\n",
      " 1   Marital_Status  2240 non-null   object\n",
      " 2   Complain        2240 non-null   int64 \n",
      " 3   AcceptedCmp1    2240 non-null   int64 \n",
      " 4   AcceptedCmp2    2240 non-null   int64 \n",
      " 5   AcceptedCmp3    2240 non-null   int64 \n",
      " 6   AcceptedCmp4    2240 non-null   int64 \n",
      " 7   AcceptedCmp5    2240 non-null   int64 \n",
      "dtypes: int64(6), object(2)\n",
      "memory usage: 157.5+ KB\n"
     ]
    }
   ],
   "source": [
    "CategoricalCustomerData.info()"
   ]
  },
  {
   "cell_type": "code",
   "execution_count": 928,
   "id": "aa339a65",
   "metadata": {
    "scrolled": true
   },
   "outputs": [
    {
     "name": "stdout",
     "output_type": "stream",
     "text": [
      "The different categories for Education are: ['Graduation' 'PhD' 'Master' 'Basic' '2n Cycle']\n",
      "Graduation    1115\n",
      "PhD            479\n",
      "Master         364\n",
      "2n Cycle       200\n",
      "Basic           54\n",
      "Name: Education, dtype: int64\n",
      "\n",
      "The different categories for Marital Status are: ['Single' 'Together' 'Married' 'Divorced' 'Widow']\n",
      "Married     857\n",
      "Together    573\n",
      "Single      474\n",
      "Divorced    232\n",
      "Widow        76\n",
      "Name: Marital_Status, dtype: int64\n",
      "\n"
     ]
    }
   ],
   "source": [
    "#Checking the unique categories in each categorical variable that are not 0 and 1 \n",
    "print(\"The different categories for Education are:\", end=\" \")\n",
    "print(pd.unique(CustomerData[\"Education\"]))\n",
    "print(CustomerData['Education'].value_counts())\n",
    "print(\"\")\n",
    "print(\"The different categories for Marital Status are:\", end=\" \")\n",
    "print(pd.unique(CustomerData[\"Marital_Status\"]))\n",
    "print(CustomerData['Marital_Status'].value_counts())\n",
    "print(\"\")"
   ]
  },
  {
   "cell_type": "code",
   "execution_count": 929,
   "id": "69164861",
   "metadata": {},
   "outputs": [],
   "source": [
    "#Dropping miscellaneous values for Marital_Status\n",
    "CustomerData = CustomerData[CustomerData['Marital_Status'] != 'YOLO']\n",
    "CustomerData = CustomerData[CustomerData['Marital_Status'] != 'Absurd']"
   ]
  },
  {
   "cell_type": "code",
   "execution_count": 914,
   "id": "eab6f66b",
   "metadata": {},
   "outputs": [],
   "source": [
    "#Combining the Alone and Single categories for Marital_Status since they have the same meaning \n",
    "CustomerData['Marital_Status'] = CustomerData['Marital_Status'].replace(['Single', 'Alone'], 'Single')\n",
    "#reassigning CategoricalCustomerData so that the changes done above are updated\n",
    "CategoricalCustomerData = pd.DataFrame(CustomerData[[ \"Education\", \"Marital_Status\", 'Complain', \"AcceptedCmp1\", \"AcceptedCmp2\", \"AcceptedCmp3\", \"AcceptedCmp4\", \"AcceptedCmp5\"]])"
   ]
  },
  {
   "cell_type": "code",
   "execution_count": 915,
   "id": "15901129",
   "metadata": {
    "scrolled": true
   },
   "outputs": [
    {
     "name": "stdout",
     "output_type": "stream",
     "text": [
      "The different categories for Marital Status are: ['Single' 'Together' 'Married' 'Divorced' 'Widow']\n",
      "Married     857\n",
      "Together    573\n",
      "Single      474\n",
      "Divorced    232\n",
      "Widow        76\n",
      "Name: Marital_Status, dtype: int64\n"
     ]
    }
   ],
   "source": [
    "#Checking if combination is successful \n",
    "print(\"The different categories for Marital Status are:\", end=\" \")\n",
    "print(pd.unique(CategoricalCustomerData[\"Marital_Status\"]))\n",
    "print(CategoricalCustomerData['Marital_Status'].value_counts())"
   ]
  },
  {
   "cell_type": "code",
   "execution_count": 848,
   "id": "db9ded4a",
   "metadata": {
    "scrolled": true
   },
   "outputs": [
    {
     "name": "stdout",
     "output_type": "stream",
     "text": [
      "<class 'pandas.core.frame.DataFrame'>\n",
      "Int64Index: 2236 entries, 0 to 2239\n",
      "Data columns (total 8 columns):\n",
      " #   Column          Non-Null Count  Dtype \n",
      "---  ------          --------------  ----- \n",
      " 0   Education       2236 non-null   object\n",
      " 1   Marital_Status  2236 non-null   object\n",
      " 2   Complain        2236 non-null   int64 \n",
      " 3   AcceptedCmp1    2236 non-null   int64 \n",
      " 4   AcceptedCmp2    2236 non-null   int64 \n",
      " 5   AcceptedCmp3    2236 non-null   int64 \n",
      " 6   AcceptedCmp4    2236 non-null   int64 \n",
      " 7   AcceptedCmp5    2236 non-null   int64 \n",
      "dtypes: int64(6), object(2)\n",
      "memory usage: 157.2+ KB\n"
     ]
    }
   ],
   "source": [
    "#Checking final number of datapoints for categorical dataframe \n",
    "CategoricalCustomerData.info()"
   ]
  },
  {
   "cell_type": "markdown",
   "id": "b250ee60",
   "metadata": {},
   "source": [
    "### <font color = pink> Editing CustomerData dataframe to drop miscellaneous values for marital status\n",
    "    "
   ]
  },
  {
   "cell_type": "code",
   "execution_count": 849,
   "id": "491bd734",
   "metadata": {},
   "outputs": [],
   "source": [
    "CustomerData = CustomerData[CustomerData['Marital_Status'] != 'YOLO']\n",
    "CustomerData = CustomerData[CustomerData['Marital_Status'] != 'Absurd']"
   ]
  },
  {
   "cell_type": "code",
   "execution_count": 850,
   "id": "c79663b6",
   "metadata": {},
   "outputs": [],
   "source": [
    "CustomerData['Marital_Status'] = CustomerData['Marital_Status'].replace(['Single', 'Alone'], 'Single')"
   ]
  },
  {
   "cell_type": "code",
   "execution_count": 851,
   "id": "8a4d012f",
   "metadata": {
    "scrolled": true
   },
   "outputs": [
    {
     "name": "stdout",
     "output_type": "stream",
     "text": [
      "<class 'pandas.core.frame.DataFrame'>\n",
      "Int64Index: 2236 entries, 0 to 2239\n",
      "Data columns (total 27 columns):\n",
      " #   Column               Non-Null Count  Dtype  \n",
      "---  ------               --------------  -----  \n",
      " 0   ID                   2236 non-null   int64  \n",
      " 1   Year_Birth           2236 non-null   int64  \n",
      " 2   Education            2236 non-null   object \n",
      " 3   Marital_Status       2236 non-null   object \n",
      " 4   Income               2212 non-null   float64\n",
      " 5   Kidhome              2236 non-null   int64  \n",
      " 6   Teenhome             2236 non-null   int64  \n",
      " 7   DurationJoined       2236 non-null   int64  \n",
      " 8   Recency              2236 non-null   int64  \n",
      " 9   MntWines             2236 non-null   int64  \n",
      " 10  MntFruits            2236 non-null   int64  \n",
      " 11  MntMeatProducts      2236 non-null   int64  \n",
      " 12  MntFishProducts      2236 non-null   int64  \n",
      " 13  MntSweetProducts     2236 non-null   int64  \n",
      " 14  MntGoldProds         2236 non-null   int64  \n",
      " 15  NumDealsPurchases    2236 non-null   int64  \n",
      " 16  NumWebPurchases      2236 non-null   int64  \n",
      " 17  NumCatalogPurchases  2236 non-null   int64  \n",
      " 18  NumStorePurchases    2236 non-null   int64  \n",
      " 19  NumWebVisitsMonth    2236 non-null   int64  \n",
      " 20  AcceptedCmp3         2236 non-null   int64  \n",
      " 21  AcceptedCmp4         2236 non-null   int64  \n",
      " 22  AcceptedCmp5         2236 non-null   int64  \n",
      " 23  AcceptedCmp1         2236 non-null   int64  \n",
      " 24  AcceptedCmp2         2236 non-null   int64  \n",
      " 25  Complain             2236 non-null   int64  \n",
      " 26  Response             2236 non-null   int64  \n",
      "dtypes: float64(1), int64(24), object(2)\n",
      "memory usage: 489.1+ KB\n"
     ]
    }
   ],
   "source": [
    "CustomerData.info()"
   ]
  },
  {
   "cell_type": "code",
   "execution_count": 852,
   "id": "7e721ebf",
   "metadata": {},
   "outputs": [],
   "source": [
    "CustomerData=CustomerData.dropna()"
   ]
  },
  {
   "cell_type": "code",
   "execution_count": 853,
   "id": "c25129d7",
   "metadata": {},
   "outputs": [
    {
     "name": "stdout",
     "output_type": "stream",
     "text": [
      "<class 'pandas.core.frame.DataFrame'>\n",
      "Int64Index: 2212 entries, 0 to 2239\n",
      "Data columns (total 27 columns):\n",
      " #   Column               Non-Null Count  Dtype  \n",
      "---  ------               --------------  -----  \n",
      " 0   ID                   2212 non-null   int64  \n",
      " 1   Year_Birth           2212 non-null   int64  \n",
      " 2   Education            2212 non-null   object \n",
      " 3   Marital_Status       2212 non-null   object \n",
      " 4   Income               2212 non-null   float64\n",
      " 5   Kidhome              2212 non-null   int64  \n",
      " 6   Teenhome             2212 non-null   int64  \n",
      " 7   DurationJoined       2212 non-null   int64  \n",
      " 8   Recency              2212 non-null   int64  \n",
      " 9   MntWines             2212 non-null   int64  \n",
      " 10  MntFruits            2212 non-null   int64  \n",
      " 11  MntMeatProducts      2212 non-null   int64  \n",
      " 12  MntFishProducts      2212 non-null   int64  \n",
      " 13  MntSweetProducts     2212 non-null   int64  \n",
      " 14  MntGoldProds         2212 non-null   int64  \n",
      " 15  NumDealsPurchases    2212 non-null   int64  \n",
      " 16  NumWebPurchases      2212 non-null   int64  \n",
      " 17  NumCatalogPurchases  2212 non-null   int64  \n",
      " 18  NumStorePurchases    2212 non-null   int64  \n",
      " 19  NumWebVisitsMonth    2212 non-null   int64  \n",
      " 20  AcceptedCmp3         2212 non-null   int64  \n",
      " 21  AcceptedCmp4         2212 non-null   int64  \n",
      " 22  AcceptedCmp5         2212 non-null   int64  \n",
      " 23  AcceptedCmp1         2212 non-null   int64  \n",
      " 24  AcceptedCmp2         2212 non-null   int64  \n",
      " 25  Complain             2212 non-null   int64  \n",
      " 26  Response             2212 non-null   int64  \n",
      "dtypes: float64(1), int64(24), object(2)\n",
      "memory usage: 483.9+ KB\n"
     ]
    }
   ],
   "source": [
    "CustomerData.info()"
   ]
  },
  {
   "cell_type": "markdown",
   "id": "4ead84b3",
   "metadata": {},
   "source": [
    "# <font color=pink> Exploratory Data Analysis"
   ]
  },
  {
   "cell_type": "markdown",
   "id": "267063de",
   "metadata": {},
   "source": [
    "### <font color = pink> Numerical type\n",
    "    "
   ]
  },
  {
   "cell_type": "code",
   "execution_count": 854,
   "id": "7bc16745",
   "metadata": {},
   "outputs": [
    {
     "data": {
      "image/png": "[encoded data removed]",
      "text/plain": [
       "<Figure size 720x4320 with 16 Axes>"
      ]
     },
     "metadata": {},
     "output_type": "display_data"
    }
   ],
   "source": [
    "# Draw the distributions of all variables\n",
    "f, axes = plt.subplots(16,1, figsize=(10, 60))\n",
    "ConcatDF = pd.concat([NumericalCustomerData, Response], axis = 1).reindex(NumericalCustomerData.index)\n",
    "\n",
    "count = 0\n",
    "for var in NumericalCustomerData:\n",
    "    sb.boxplot(x = ConcatDF[var], y = \"Response\", data = CustomerData, orient = \"h\",ax = axes[count])\n",
    "    count += 1"
   ]
  },
  {
   "cell_type": "code",
   "execution_count": null,
   "id": "ccade550",
   "metadata": {},
   "outputs": [],
   "source": []
  },
  {
   "cell_type": "markdown",
   "id": "b43675b8",
   "metadata": {},
   "source": [
    "Observations made:\n",
    "1. Year_Birth has close to no relation with response as median is very similar \n",
    "2. Kidhome, Teenhome and DurationJoined have no distinct medians. Thus, upon doing further exploratory analysis, we found that these 3 variables take 3 discrete values as shown in the next block of code. "
   ]
  },
  {
   "cell_type": "code",
   "execution_count": 855,
   "id": "b7acc00f",
   "metadata": {},
   "outputs": [],
   "source": [
    "# From the first observation, we thus decided to drop the Year_Birth from our numerical dataframe\n",
    "NumericalCustomerData = CustomerData.drop(['Year_Birth'],axis=1)"
   ]
  },
  {
   "cell_type": "code",
   "execution_count": 856,
   "id": "89917d37",
   "metadata": {},
   "outputs": [
    {
     "name": "stdout",
     "output_type": "stream",
     "text": [
      "The different categories for Kidhome are: [0 1 2]\n",
      "0    1279\n",
      "1     887\n",
      "2      46\n",
      "Name: Kidhome, dtype: int64\n",
      "\n",
      "The different categories for Teenhome are: [0 1 2]\n",
      "0    1145\n",
      "1    1016\n",
      "2      51\n",
      "Name: Teenhome, dtype: int64\n",
      "\n",
      "The different categories for DurationJoined are: [11  9 10]\n",
      "10    1173\n",
      "9      552\n",
      "11     487\n",
      "Name: DurationJoined, dtype: int64\n",
      "\n"
     ]
    }
   ],
   "source": [
    "print(\"The different categories for Kidhome are:\", end=\" \")\n",
    "print(pd.unique(CustomerData[\"Kidhome\"]))\n",
    "print(CustomerData['Kidhome'].value_counts())\n",
    "print(\"\")\n",
    "print(\"The different categories for Teenhome are:\", end=\" \")\n",
    "print(pd.unique(CustomerData[\"Teenhome\"]))\n",
    "print(CustomerData['Teenhome'].value_counts())\n",
    "print(\"\")\n",
    "print(\"The different categories for DurationJoined are:\", end=\" \")\n",
    "print(pd.unique(CustomerData[\"DurationJoined\"]))\n",
    "print(CustomerData['DurationJoined'].value_counts())\n",
    "print(\"\")"
   ]
  },
  {
   "cell_type": "markdown",
   "id": "58159dd5",
   "metadata": {},
   "source": [
    "Thus,  Kidhome, Teenhome and DurationJoined can be converted into categorical data as they only take 3 discrete values."
   ]
  },
  {
   "cell_type": "code",
   "execution_count": 857,
   "id": "f832140a",
   "metadata": {},
   "outputs": [
    {
     "data": {
      "text/html": [
       "<div>\n",
       "<style scoped>\n",
       "    .dataframe tbody tr th:only-of-type {\n",
       "        vertical-align: middle;\n",
       "    }\n",
       "\n",
       "    .dataframe tbody tr th {\n",
       "        vertical-align: top;\n",
       "    }\n",
       "\n",
       "    .dataframe thead th {\n",
       "        text-align: right;\n",
       "    }\n",
       "</style>\n",
       "<table border=\"1\" class=\"dataframe\">\n",
       "  <thead>\n",
       "    <tr style=\"text-align: right;\">\n",
       "      <th></th>\n",
       "      <th>Education</th>\n",
       "      <th>Marital_Status</th>\n",
       "      <th>Complain</th>\n",
       "      <th>AcceptedCmp1</th>\n",
       "      <th>AcceptedCmp2</th>\n",
       "      <th>AcceptedCmp3</th>\n",
       "      <th>AcceptedCmp4</th>\n",
       "      <th>AcceptedCmp5</th>\n",
       "      <th>Kidhome</th>\n",
       "      <th>Teenhome</th>\n",
       "      <th>DurationJoined</th>\n",
       "    </tr>\n",
       "  </thead>\n",
       "  <tbody>\n",
       "    <tr>\n",
       "      <th>0</th>\n",
       "      <td>Graduation</td>\n",
       "      <td>Single</td>\n",
       "      <td>0</td>\n",
       "      <td>0</td>\n",
       "      <td>0</td>\n",
       "      <td>0</td>\n",
       "      <td>0</td>\n",
       "      <td>0</td>\n",
       "      <td>0</td>\n",
       "      <td>0</td>\n",
       "      <td>11</td>\n",
       "    </tr>\n",
       "    <tr>\n",
       "      <th>1</th>\n",
       "      <td>Graduation</td>\n",
       "      <td>Single</td>\n",
       "      <td>0</td>\n",
       "      <td>0</td>\n",
       "      <td>0</td>\n",
       "      <td>0</td>\n",
       "      <td>0</td>\n",
       "      <td>0</td>\n",
       "      <td>1</td>\n",
       "      <td>1</td>\n",
       "      <td>9</td>\n",
       "    </tr>\n",
       "    <tr>\n",
       "      <th>2</th>\n",
       "      <td>Graduation</td>\n",
       "      <td>Together</td>\n",
       "      <td>0</td>\n",
       "      <td>0</td>\n",
       "      <td>0</td>\n",
       "      <td>0</td>\n",
       "      <td>0</td>\n",
       "      <td>0</td>\n",
       "      <td>0</td>\n",
       "      <td>0</td>\n",
       "      <td>10</td>\n",
       "    </tr>\n",
       "    <tr>\n",
       "      <th>3</th>\n",
       "      <td>Graduation</td>\n",
       "      <td>Together</td>\n",
       "      <td>0</td>\n",
       "      <td>0</td>\n",
       "      <td>0</td>\n",
       "      <td>0</td>\n",
       "      <td>0</td>\n",
       "      <td>0</td>\n",
       "      <td>1</td>\n",
       "      <td>0</td>\n",
       "      <td>9</td>\n",
       "    </tr>\n",
       "    <tr>\n",
       "      <th>4</th>\n",
       "      <td>PhD</td>\n",
       "      <td>Married</td>\n",
       "      <td>0</td>\n",
       "      <td>0</td>\n",
       "      <td>0</td>\n",
       "      <td>0</td>\n",
       "      <td>0</td>\n",
       "      <td>0</td>\n",
       "      <td>1</td>\n",
       "      <td>0</td>\n",
       "      <td>9</td>\n",
       "    </tr>\n",
       "  </tbody>\n",
       "</table>\n",
       "</div>"
      ],
      "text/plain": [
       "    Education Marital_Status  Complain  AcceptedCmp1  AcceptedCmp2  \\\n",
       "0  Graduation         Single         0             0             0   \n",
       "1  Graduation         Single         0             0             0   \n",
       "2  Graduation       Together         0             0             0   \n",
       "3  Graduation       Together         0             0             0   \n",
       "4         PhD        Married         0             0             0   \n",
       "\n",
       "   AcceptedCmp3  AcceptedCmp4  AcceptedCmp5  Kidhome  Teenhome  DurationJoined  \n",
       "0             0             0             0        0         0              11  \n",
       "1             0             0             0        1         1               9  \n",
       "2             0             0             0        0         0              10  \n",
       "3             0             0             0        1         0               9  \n",
       "4             0             0             0        1         0               9  "
      ]
     },
     "execution_count": 857,
     "metadata": {},
     "output_type": "execute_result"
    }
   ],
   "source": [
    "CategoricalCustomerData = pd.DataFrame(CustomerData[[ \"Education\", \"Marital_Status\", 'Complain', \"AcceptedCmp1\", \"AcceptedCmp2\", \"AcceptedCmp3\", \"AcceptedCmp4\", \"AcceptedCmp5\", \"Kidhome\", \"Teenhome\", \"DurationJoined\"]])\n",
    "CategoricalCustomerData.head()"
   ]
  },
  {
   "cell_type": "code",
   "execution_count": null,
   "id": "1ea1dc23",
   "metadata": {},
   "outputs": [],
   "source": []
  },
  {
   "cell_type": "markdown",
   "id": "7ebd7d54",
   "metadata": {},
   "source": [
    "## <font color = pink> Categorical type\n",
    "    Based on EDA of categorical data, whether or not a customer lodged a complained in the last 2 years does not have a large relation on whether they participated in the latest campaign. Therefore, we will drop the 'complain' variable and not use it for our machine learning models. "
   ]
  },
  {
   "cell_type": "code",
   "execution_count": 858,
   "id": "bf345471",
   "metadata": {},
   "outputs": [
    {
     "data": {
      "image/png": "[encoded data removed]",
      "text/plain": [
       "<Figure size 864x1728 with 12 Axes>"
      ]
     },
     "metadata": {},
     "output_type": "display_data"
    }
   ],
   "source": [
    "# Determine the number of rows and columns for the subplots\n",
    "num_cols = 2\n",
    "num_rows = len(CategoricalCustomerData.columns) // num_cols\n",
    "if len(CategoricalCustomerData.columns) % num_cols != 0:\n",
    "    num_rows += 1\n",
    "\n",
    "# Create the subplots\n",
    "fig, axs = plt.subplots(num_rows, num_cols, figsize=(12, 24))\n",
    "\n",
    "# Flatten the axs array to make it easier to iterate over\n",
    "axs = axs.flatten()\n",
    "\n",
    "# Iterate over the categorical variables and plot each normalized contingency table on a separate subplot\n",
    "for i, col in enumerate(CategoricalCustomerData.columns):\n",
    "    \n",
    "    # Create a normalized contingency table of the column and the \"Response\" variable\n",
    "    contingency_table = pd.crosstab(CategoricalCustomerData[col], Response[\"Response\"], normalize='index')\n",
    "    \n",
    "    # Plot the bar graph on the appropriate subplot, using red and green for \"No\" and \"Yes\" responses\n",
    "    contingency_table.plot(kind='bar', ax=axs[i],stacked=True)\n",
    "    \n",
    "    # Set the title and labels for the subplot\n",
    "    axs[i].set_title(f\"{col} vs Response\")\n",
    "    axs[i].set_xlabel(col)\n",
    "    axs[i].set_ylabel(\"Proportion of Responses\")\n",
    "    \n",
    "    # Rotate the x-axis labels if necessary\n",
    "    axs[i].tick_params(axis='x', rotation=0)\n",
    "    \n",
    "\n",
    "# If the number of columns is odd, hide the last subplot\n",
    "if len(CategoricalCustomerData.columns) % num_cols != 0:\n",
    "    axs[-1].axis('off')\n",
    "\n",
    "# Display the subplots\n",
    "plt.tight_layout()\n",
    "plt.show()\n",
    "\n"
   ]
  },
  {
   "cell_type": "markdown",
   "id": "1a58993d",
   "metadata": {},
   "source": [
    "### <font color = pink> Splitting DataSet into People(6), Products(6), Promotion(6), Places(3)\n",
    "    For People DF: Dropped Year_Birth because from the EDA(plotting boxplots of var against response), there was no obvious/significant correlation between Year birth and response. There is only a very slight difference in the median pf year_birth for response = 0 and response = 1.\n",
    "    \n",
    "    For Place DF: Dropped NumWebVisitsMonth as there is no obvious correlation. The median for the variable for response =0 and response = 1 seems to be the same. "
   ]
  },
  {
   "cell_type": "code",
   "execution_count": 859,
   "id": "96898aff",
   "metadata": {},
   "outputs": [
    {
     "data": {
      "text/html": [
       "<div>\n",
       "<style scoped>\n",
       "    .dataframe tbody tr th:only-of-type {\n",
       "        vertical-align: middle;\n",
       "    }\n",
       "\n",
       "    .dataframe tbody tr th {\n",
       "        vertical-align: top;\n",
       "    }\n",
       "\n",
       "    .dataframe thead th {\n",
       "        text-align: right;\n",
       "    }\n",
       "</style>\n",
       "<table border=\"1\" class=\"dataframe\">\n",
       "  <thead>\n",
       "    <tr style=\"text-align: right;\">\n",
       "      <th></th>\n",
       "      <th>Education</th>\n",
       "      <th>Marital_Status</th>\n",
       "      <th>Income</th>\n",
       "      <th>Kidhome</th>\n",
       "      <th>Teenhome</th>\n",
       "      <th>DurationJoined</th>\n",
       "      <th>Response</th>\n",
       "    </tr>\n",
       "  </thead>\n",
       "  <tbody>\n",
       "    <tr>\n",
       "      <th>0</th>\n",
       "      <td>Graduation</td>\n",
       "      <td>Single</td>\n",
       "      <td>58138.0</td>\n",
       "      <td>0</td>\n",
       "      <td>0</td>\n",
       "      <td>11</td>\n",
       "      <td>1</td>\n",
       "    </tr>\n",
       "    <tr>\n",
       "      <th>1</th>\n",
       "      <td>Graduation</td>\n",
       "      <td>Single</td>\n",
       "      <td>46344.0</td>\n",
       "      <td>1</td>\n",
       "      <td>1</td>\n",
       "      <td>9</td>\n",
       "      <td>0</td>\n",
       "    </tr>\n",
       "    <tr>\n",
       "      <th>2</th>\n",
       "      <td>Graduation</td>\n",
       "      <td>Together</td>\n",
       "      <td>71613.0</td>\n",
       "      <td>0</td>\n",
       "      <td>0</td>\n",
       "      <td>10</td>\n",
       "      <td>0</td>\n",
       "    </tr>\n",
       "    <tr>\n",
       "      <th>3</th>\n",
       "      <td>Graduation</td>\n",
       "      <td>Together</td>\n",
       "      <td>26646.0</td>\n",
       "      <td>1</td>\n",
       "      <td>0</td>\n",
       "      <td>9</td>\n",
       "      <td>0</td>\n",
       "    </tr>\n",
       "    <tr>\n",
       "      <th>4</th>\n",
       "      <td>PhD</td>\n",
       "      <td>Married</td>\n",
       "      <td>58293.0</td>\n",
       "      <td>1</td>\n",
       "      <td>0</td>\n",
       "      <td>9</td>\n",
       "      <td>0</td>\n",
       "    </tr>\n",
       "  </tbody>\n",
       "</table>\n",
       "</div>"
      ],
      "text/plain": [
       "    Education Marital_Status   Income  Kidhome  Teenhome  DurationJoined  \\\n",
       "0  Graduation         Single  58138.0        0         0              11   \n",
       "1  Graduation         Single  46344.0        1         1               9   \n",
       "2  Graduation       Together  71613.0        0         0              10   \n",
       "3  Graduation       Together  26646.0        1         0               9   \n",
       "4         PhD        Married  58293.0        1         0               9   \n",
       "\n",
       "   Response  \n",
       "0         1  \n",
       "1         0  \n",
       "2         0  \n",
       "3         0  \n",
       "4         0  "
      ]
     },
     "execution_count": 859,
     "metadata": {},
     "output_type": "execute_result"
    }
   ],
   "source": [
    "People = pd.DataFrame(CustomerData[[\"Education\", \"Marital_Status\", \"Income\", \"Kidhome\", \"Teenhome\", \"DurationJoined\", \"Response\"]])\n",
    "People.head()"
   ]
  },
  {
   "cell_type": "code",
   "execution_count": 860,
   "id": "237d8112",
   "metadata": {},
   "outputs": [
    {
     "name": "stdout",
     "output_type": "stream",
     "text": [
      "<class 'pandas.core.frame.DataFrame'>\n",
      "Int64Index: 2212 entries, 0 to 2239\n",
      "Data columns (total 7 columns):\n",
      " #   Column          Non-Null Count  Dtype  \n",
      "---  ------          --------------  -----  \n",
      " 0   Education       2212 non-null   object \n",
      " 1   Marital_Status  2212 non-null   object \n",
      " 2   Income          2212 non-null   float64\n",
      " 3   Kidhome         2212 non-null   int64  \n",
      " 4   Teenhome        2212 non-null   int64  \n",
      " 5   DurationJoined  2212 non-null   int64  \n",
      " 6   Response        2212 non-null   int64  \n",
      "dtypes: float64(1), int64(4), object(2)\n",
      "memory usage: 202.8+ KB\n"
     ]
    }
   ],
   "source": [
    "People.info()"
   ]
  },
  {
   "cell_type": "code",
   "execution_count": 861,
   "id": "1d576abc",
   "metadata": {
    "scrolled": true
   },
   "outputs": [
    {
     "name": "stdout",
     "output_type": "stream",
     "text": [
      "<class 'pandas.core.frame.DataFrame'>\n",
      "Int64Index: 2212 entries, 0 to 2239\n",
      "Data columns (total 7 columns):\n",
      " #   Column            Non-Null Count  Dtype\n",
      "---  ------            --------------  -----\n",
      " 0   MntWines          2212 non-null   int64\n",
      " 1   MntFruits         2212 non-null   int64\n",
      " 2   MntMeatProducts   2212 non-null   int64\n",
      " 3   MntFishProducts   2212 non-null   int64\n",
      " 4   MntSweetProducts  2212 non-null   int64\n",
      " 5   MntGoldProds      2212 non-null   int64\n",
      " 6   Response          2212 non-null   int64\n",
      "dtypes: int64(7)\n",
      "memory usage: 202.8 KB\n"
     ]
    }
   ],
   "source": [
    "Products = pd.DataFrame(CustomerData[[\"MntWines\", \"MntFruits\", \"MntMeatProducts\", \"MntFishProducts\",\"MntSweetProducts\",\"MntGoldProds\", \"Response\"]])\n",
    "Products.info()"
   ]
  },
  {
   "cell_type": "code",
   "execution_count": 862,
   "id": "89b6b726",
   "metadata": {},
   "outputs": [
    {
     "name": "stdout",
     "output_type": "stream",
     "text": [
      "<class 'pandas.core.frame.DataFrame'>\n",
      "Int64Index: 2212 entries, 0 to 2239\n",
      "Data columns (total 7 columns):\n",
      " #   Column          Non-Null Count  Dtype  \n",
      "---  ------          --------------  -----  \n",
      " 0   Education       2212 non-null   object \n",
      " 1   Marital_Status  2212 non-null   object \n",
      " 2   Income          2212 non-null   float64\n",
      " 3   Kidhome         2212 non-null   int64  \n",
      " 4   Teenhome        2212 non-null   int64  \n",
      " 5   DurationJoined  2212 non-null   int64  \n",
      " 6   Response        2212 non-null   int64  \n",
      "dtypes: float64(1), int64(4), object(2)\n",
      "memory usage: 202.8+ KB\n"
     ]
    }
   ],
   "source": [
    "Promotion = pd.DataFrame(CustomerData[[\"NumDealsPurchases\", \"AcceptedCmp1\", \"AcceptedCmp2\", \"AcceptedCmp3\", \"AcceptedCmp4\", \"AcceptedCmp5\", \"Response\"]])\n",
    "Promotion.head()\n",
    "People.info()"
   ]
  },
  {
   "cell_type": "code",
   "execution_count": 863,
   "id": "9e5a21ba",
   "metadata": {
    "scrolled": true
   },
   "outputs": [
    {
     "name": "stdout",
     "output_type": "stream",
     "text": [
      "<class 'pandas.core.frame.DataFrame'>\n",
      "Int64Index: 2212 entries, 0 to 2239\n",
      "Data columns (total 4 columns):\n",
      " #   Column               Non-Null Count  Dtype\n",
      "---  ------               --------------  -----\n",
      " 0   NumWebPurchases      2212 non-null   int64\n",
      " 1   NumCatalogPurchases  2212 non-null   int64\n",
      " 2   NumStorePurchases    2212 non-null   int64\n",
      " 3   Response             2212 non-null   int64\n",
      "dtypes: int64(4)\n",
      "memory usage: 150.9 KB\n"
     ]
    }
   ],
   "source": [
    "Place = pd.DataFrame(CustomerData[[\"NumWebPurchases\", \"NumCatalogPurchases\", \"NumStorePurchases\", \"Response\"]])\n",
    "Place.head()\n",
    "Place.info()"
   ]
  },
  {
   "cell_type": "markdown",
   "id": "0718f477",
   "metadata": {},
   "source": [
    "# <font color=black> MACHINE LEARNING MODELS"
   ]
  },
  {
   "cell_type": "markdown",
   "id": "3a9b154c",
   "metadata": {},
   "source": [
    "## <font color=black> ML Model 1: Support Vector Machine"
   ]
  },
  {
   "cell_type": "markdown",
   "id": "3792953c",
   "metadata": {},
   "source": [
    "# <font color=pink> Applying Support Vector Machines on first dataframe: People"
   ]
  },
  {
   "cell_type": "code",
   "execution_count": 864,
   "id": "8bda305f",
   "metadata": {},
   "outputs": [],
   "source": [
    "import pandas as pd\n",
    "from sklearn.model_selection import train_test_split\n",
    "from sklearn.svm import SVC\n",
    "from sklearn.metrics import accuracy_score\n",
    "from sklearn.preprocessing import StandardScaler"
   ]
  },
  {
   "cell_type": "code",
   "execution_count": 865,
   "id": "daf0917f",
   "metadata": {
    "scrolled": true
   },
   "outputs": [
    {
     "data": {
      "text/html": [
       "<div>\n",
       "<style scoped>\n",
       "    .dataframe tbody tr th:only-of-type {\n",
       "        vertical-align: middle;\n",
       "    }\n",
       "\n",
       "    .dataframe tbody tr th {\n",
       "        vertical-align: top;\n",
       "    }\n",
       "\n",
       "    .dataframe thead th {\n",
       "        text-align: right;\n",
       "    }\n",
       "</style>\n",
       "<table border=\"1\" class=\"dataframe\">\n",
       "  <thead>\n",
       "    <tr style=\"text-align: right;\">\n",
       "      <th></th>\n",
       "      <th>Education</th>\n",
       "      <th>Marital_Status</th>\n",
       "      <th>Income</th>\n",
       "      <th>Kidhome</th>\n",
       "      <th>Teenhome</th>\n",
       "      <th>DurationJoined</th>\n",
       "      <th>Response</th>\n",
       "    </tr>\n",
       "  </thead>\n",
       "  <tbody>\n",
       "    <tr>\n",
       "      <th>0</th>\n",
       "      <td>2</td>\n",
       "      <td>0</td>\n",
       "      <td>58138.0</td>\n",
       "      <td>0</td>\n",
       "      <td>0</td>\n",
       "      <td>11</td>\n",
       "      <td>1</td>\n",
       "    </tr>\n",
       "    <tr>\n",
       "      <th>1</th>\n",
       "      <td>2</td>\n",
       "      <td>0</td>\n",
       "      <td>46344.0</td>\n",
       "      <td>1</td>\n",
       "      <td>1</td>\n",
       "      <td>9</td>\n",
       "      <td>0</td>\n",
       "    </tr>\n",
       "    <tr>\n",
       "      <th>2</th>\n",
       "      <td>2</td>\n",
       "      <td>1</td>\n",
       "      <td>71613.0</td>\n",
       "      <td>0</td>\n",
       "      <td>0</td>\n",
       "      <td>10</td>\n",
       "      <td>0</td>\n",
       "    </tr>\n",
       "    <tr>\n",
       "      <th>3</th>\n",
       "      <td>2</td>\n",
       "      <td>1</td>\n",
       "      <td>26646.0</td>\n",
       "      <td>1</td>\n",
       "      <td>0</td>\n",
       "      <td>9</td>\n",
       "      <td>0</td>\n",
       "    </tr>\n",
       "    <tr>\n",
       "      <th>4</th>\n",
       "      <td>4</td>\n",
       "      <td>2</td>\n",
       "      <td>58293.0</td>\n",
       "      <td>1</td>\n",
       "      <td>0</td>\n",
       "      <td>9</td>\n",
       "      <td>0</td>\n",
       "    </tr>\n",
       "  </tbody>\n",
       "</table>\n",
       "</div>"
      ],
      "text/plain": [
       "   Education  Marital_Status   Income  Kidhome  Teenhome  DurationJoined  \\\n",
       "0          2               0  58138.0        0         0              11   \n",
       "1          2               0  46344.0        1         1               9   \n",
       "2          2               1  71613.0        0         0              10   \n",
       "3          2               1  26646.0        1         0               9   \n",
       "4          4               2  58293.0        1         0               9   \n",
       "\n",
       "   Response  \n",
       "0         1  \n",
       "1         0  \n",
       "2         0  \n",
       "3         0  \n",
       "4         0  "
      ]
     },
     "execution_count": 865,
     "metadata": {},
     "output_type": "execute_result"
    }
   ],
   "source": [
    "#converting Education and Marital Status into numeric \n",
    "People['Education'] = People['Education'].replace(['Graduation', 'PhD', 'Master', 'Basic', '2n Cycle'], [2,4,3,0,1])\n",
    "People['Marital_Status'] = People['Marital_Status'].replace(['Single', 'Together', 'Married', 'Divorced', 'Widow'], [0,1,2,3,4])\n",
    "People.head()"
   ]
  },
  {
   "cell_type": "code",
   "execution_count": 866,
   "id": "0956aba3",
   "metadata": {},
   "outputs": [
    {
     "data": {
      "text/html": [
       "<div>\n",
       "<style scoped>\n",
       "    .dataframe tbody tr th:only-of-type {\n",
       "        vertical-align: middle;\n",
       "    }\n",
       "\n",
       "    .dataframe tbody tr th {\n",
       "        vertical-align: top;\n",
       "    }\n",
       "\n",
       "    .dataframe thead th {\n",
       "        text-align: right;\n",
       "    }\n",
       "</style>\n",
       "<table border=\"1\" class=\"dataframe\">\n",
       "  <thead>\n",
       "    <tr style=\"text-align: right;\">\n",
       "      <th></th>\n",
       "      <th>Education</th>\n",
       "      <th>Marital_Status</th>\n",
       "      <th>Income</th>\n",
       "      <th>DurationJoined</th>\n",
       "      <th>Kidhome</th>\n",
       "      <th>Teenhome</th>\n",
       "    </tr>\n",
       "  </thead>\n",
       "  <tbody>\n",
       "    <tr>\n",
       "      <th>0</th>\n",
       "      <td>2</td>\n",
       "      <td>0</td>\n",
       "      <td>58138.0</td>\n",
       "      <td>11</td>\n",
       "      <td>0</td>\n",
       "      <td>0</td>\n",
       "    </tr>\n",
       "    <tr>\n",
       "      <th>1</th>\n",
       "      <td>2</td>\n",
       "      <td>0</td>\n",
       "      <td>46344.0</td>\n",
       "      <td>9</td>\n",
       "      <td>1</td>\n",
       "      <td>1</td>\n",
       "    </tr>\n",
       "    <tr>\n",
       "      <th>2</th>\n",
       "      <td>2</td>\n",
       "      <td>1</td>\n",
       "      <td>71613.0</td>\n",
       "      <td>10</td>\n",
       "      <td>0</td>\n",
       "      <td>0</td>\n",
       "    </tr>\n",
       "    <tr>\n",
       "      <th>3</th>\n",
       "      <td>2</td>\n",
       "      <td>1</td>\n",
       "      <td>26646.0</td>\n",
       "      <td>9</td>\n",
       "      <td>1</td>\n",
       "      <td>0</td>\n",
       "    </tr>\n",
       "    <tr>\n",
       "      <th>4</th>\n",
       "      <td>4</td>\n",
       "      <td>2</td>\n",
       "      <td>58293.0</td>\n",
       "      <td>9</td>\n",
       "      <td>1</td>\n",
       "      <td>0</td>\n",
       "    </tr>\n",
       "  </tbody>\n",
       "</table>\n",
       "</div>"
      ],
      "text/plain": [
       "   Education  Marital_Status   Income  DurationJoined  Kidhome  Teenhome\n",
       "0          2               0  58138.0              11        0         0\n",
       "1          2               0  46344.0               9        1         1\n",
       "2          2               1  71613.0              10        0         0\n",
       "3          2               1  26646.0               9        1         0\n",
       "4          4               2  58293.0               9        1         0"
      ]
     },
     "execution_count": 866,
     "metadata": {},
     "output_type": "execute_result"
    }
   ],
   "source": [
    "PeopleMulti = pd.DataFrame(People[[\"Education\", \"Marital_Status\", \"Income\", \"DurationJoined\", \"Kidhome\", \"Teenhome\"]])\n",
    "PeopleMulti.head()"
   ]
  },
  {
   "cell_type": "code",
   "execution_count": 867,
   "id": "4e604fd9",
   "metadata": {},
   "outputs": [],
   "source": [
    "Response = pd.DataFrame(CustomerData['Response'])"
   ]
  },
  {
   "cell_type": "code",
   "execution_count": 868,
   "id": "808408f5",
   "metadata": {},
   "outputs": [
    {
     "name": "stdout",
     "output_type": "stream",
     "text": [
      "Train Set : (1769, 1) (1769, 6)\n",
      "Test Set  : (443, 1) (443, 6)\n"
     ]
    }
   ],
   "source": [
    "#Peforming random splitting on the dataset \n",
    "#Random split into train and test set\n",
    "People_train, People_test, Response_train, Response_test = train_test_split(PeopleMulti, Response, test_size = 0.2)\n",
    "\n",
    "# Check the sample sizes\n",
    "print(\"Train Set :\", Response_train.shape, People_train.shape)\n",
    "print(\"Test Set  :\", Response_test.shape, People_test.shape)"
   ]
  },
  {
   "cell_type": "code",
   "execution_count": 869,
   "id": "506c43a5",
   "metadata": {},
   "outputs": [],
   "source": [
    "#scaling the data so that svm works better\n",
    "scaler = StandardScaler()\n",
    "People_train_scaled = scaler.fit_transform(People_train)\n",
    "People_test_scaled = scaler.transform(People_test)"
   ]
  },
  {
   "cell_type": "code",
   "execution_count": 870,
   "id": "83b2e94f",
   "metadata": {},
   "outputs": [],
   "source": [
    "#instantiate SVM model\n",
    "clf = SVC(kernel='linear')"
   ]
  },
  {
   "cell_type": "code",
   "execution_count": 871,
   "id": "1fed2ad0",
   "metadata": {},
   "outputs": [
    {
     "data": {
      "text/plain": [
       "SVC(kernel='linear')"
      ]
     },
     "execution_count": 871,
     "metadata": {},
     "output_type": "execute_result"
    }
   ],
   "source": [
    "#Train the SVM Model with the train set\n",
    "clf.fit(People_train_scaled, Response_train.values.ravel())"
   ]
  },
  {
   "cell_type": "code",
   "execution_count": 872,
   "id": "6e242b85",
   "metadata": {},
   "outputs": [],
   "source": [
    "# Predict the Repsonse values from Predictors\n",
    "Response_test_pred = clf.predict(People_test_scaled)"
   ]
  },
  {
   "cell_type": "code",
   "execution_count": 873,
   "id": "b52601e6",
   "metadata": {},
   "outputs": [],
   "source": [
    "Response_train_pred = clf.predict(People_train_scaled)"
   ]
  },
  {
   "cell_type": "code",
   "execution_count": 874,
   "id": "2c31ada5",
   "metadata": {},
   "outputs": [
    {
     "data": {
      "text/plain": [
       "0.8600451467268623"
      ]
     },
     "execution_count": 874,
     "metadata": {},
     "output_type": "execute_result"
    }
   ],
   "source": [
    "#Checking the accuracy of the model\n",
    "accuracy_score(Response_test, Response_test_pred)"
   ]
  },
  {
   "cell_type": "code",
   "execution_count": 875,
   "id": "c8f9e8df",
   "metadata": {},
   "outputs": [
    {
     "data": {
      "text/plain": [
       "0.847936687394008"
      ]
     },
     "execution_count": 875,
     "metadata": {},
     "output_type": "execute_result"
    }
   ],
   "source": [
    "accuracy_score(Response_train, Response_train_pred)"
   ]
  },
  {
   "cell_type": "code",
   "execution_count": 876,
   "id": "7d0c2506",
   "metadata": {},
   "outputs": [
    {
     "data": {
      "text/plain": [
       "<AxesSubplot:>"
      ]
     },
     "execution_count": 876,
     "metadata": {},
     "output_type": "execute_result"
    },
    {
     "data": {
      "image/png": "[encoded data removed]",
      "text/plain": [
       "<Figure size 864x288 with 4 Axes>"
      ]
     },
     "metadata": {},
     "output_type": "display_data"
    }
   ],
   "source": [
    "from sklearn.metrics import confusion_matrix\n",
    "f, axes = plt.subplots(1, 2, figsize=(12, 4))\n",
    "sb.heatmap(confusion_matrix(Response_train, Response_train_pred),\n",
    "           annot = True, fmt=\".0f\", annot_kws={\"size\": 18}, ax = axes[0])\n",
    "sb.heatmap(confusion_matrix(Response_test, Response_test_pred), \n",
    "           annot = True, fmt=\".0f\", annot_kws={\"size\": 18}, ax = axes[1])"
   ]
  },
  {
   "cell_type": "markdown",
   "id": "71a7278e",
   "metadata": {},
   "source": [
    "# <font color=pink> Applying Support Vector Machines on second dataframe: Products"
   ]
  },
  {
   "cell_type": "code",
   "execution_count": 877,
   "id": "c1385b26",
   "metadata": {},
   "outputs": [],
   "source": [
    "Products = Products.drop('Response', axis = 1)"
   ]
  },
  {
   "cell_type": "code",
   "execution_count": 878,
   "id": "83436ed6",
   "metadata": {},
   "outputs": [
    {
     "data": {
      "text/html": [
       "<div>\n",
       "<style scoped>\n",
       "    .dataframe tbody tr th:only-of-type {\n",
       "        vertical-align: middle;\n",
       "    }\n",
       "\n",
       "    .dataframe tbody tr th {\n",
       "        vertical-align: top;\n",
       "    }\n",
       "\n",
       "    .dataframe thead th {\n",
       "        text-align: right;\n",
       "    }\n",
       "</style>\n",
       "<table border=\"1\" class=\"dataframe\">\n",
       "  <thead>\n",
       "    <tr style=\"text-align: right;\">\n",
       "      <th></th>\n",
       "      <th>MntWines</th>\n",
       "      <th>MntFruits</th>\n",
       "      <th>MntMeatProducts</th>\n",
       "      <th>MntFishProducts</th>\n",
       "      <th>MntSweetProducts</th>\n",
       "      <th>MntGoldProds</th>\n",
       "    </tr>\n",
       "  </thead>\n",
       "  <tbody>\n",
       "    <tr>\n",
       "      <th>0</th>\n",
       "      <td>635</td>\n",
       "      <td>88</td>\n",
       "      <td>546</td>\n",
       "      <td>172</td>\n",
       "      <td>88</td>\n",
       "      <td>88</td>\n",
       "    </tr>\n",
       "    <tr>\n",
       "      <th>1</th>\n",
       "      <td>11</td>\n",
       "      <td>1</td>\n",
       "      <td>6</td>\n",
       "      <td>2</td>\n",
       "      <td>1</td>\n",
       "      <td>6</td>\n",
       "    </tr>\n",
       "    <tr>\n",
       "      <th>2</th>\n",
       "      <td>426</td>\n",
       "      <td>49</td>\n",
       "      <td>127</td>\n",
       "      <td>111</td>\n",
       "      <td>21</td>\n",
       "      <td>42</td>\n",
       "    </tr>\n",
       "    <tr>\n",
       "      <th>3</th>\n",
       "      <td>11</td>\n",
       "      <td>4</td>\n",
       "      <td>20</td>\n",
       "      <td>10</td>\n",
       "      <td>3</td>\n",
       "      <td>5</td>\n",
       "    </tr>\n",
       "    <tr>\n",
       "      <th>4</th>\n",
       "      <td>173</td>\n",
       "      <td>43</td>\n",
       "      <td>118</td>\n",
       "      <td>46</td>\n",
       "      <td>27</td>\n",
       "      <td>15</td>\n",
       "    </tr>\n",
       "  </tbody>\n",
       "</table>\n",
       "</div>"
      ],
      "text/plain": [
       "   MntWines  MntFruits  MntMeatProducts  MntFishProducts  MntSweetProducts  \\\n",
       "0       635         88              546              172                88   \n",
       "1        11          1                6                2                 1   \n",
       "2       426         49              127              111                21   \n",
       "3        11          4               20               10                 3   \n",
       "4       173         43              118               46                27   \n",
       "\n",
       "   MntGoldProds  \n",
       "0            88  \n",
       "1             6  \n",
       "2            42  \n",
       "3             5  \n",
       "4            15  "
      ]
     },
     "execution_count": 878,
     "metadata": {},
     "output_type": "execute_result"
    }
   ],
   "source": [
    "Products.head()"
   ]
  },
  {
   "cell_type": "code",
   "execution_count": 879,
   "id": "3abb2565",
   "metadata": {},
   "outputs": [],
   "source": [
    "Response = pd.DataFrame(CustomerData['Response'])"
   ]
  },
  {
   "cell_type": "code",
   "execution_count": 880,
   "id": "cf99c2ea",
   "metadata": {},
   "outputs": [
    {
     "name": "stdout",
     "output_type": "stream",
     "text": [
      "Train Set : (1769, 1) (1769, 6)\n",
      "Test Set  : (443, 1) (443, 6)\n"
     ]
    }
   ],
   "source": [
    "#Peforming random splitting on the dataset \n",
    "#Random split into train and test set\n",
    "Products_train, Products_test, ResponseProducts_train, ResponseProducts_test = train_test_split(Products, Response, test_size = 0.2)\n",
    "\n",
    "# Check the sample sizes\n",
    "print(\"Train Set :\", ResponseProducts_train.shape, Products_train.shape)\n",
    "print(\"Test Set  :\", ResponseProducts_test.shape, Products_test.shape)"
   ]
  },
  {
   "cell_type": "code",
   "execution_count": 881,
   "id": "bf9f2e20",
   "metadata": {},
   "outputs": [],
   "source": [
    "#scaling the data so that svm works better\n",
    "scaler = StandardScaler()\n",
    "Products_train_scaled = scaler.fit_transform(Products_train)\n",
    "Products_test_scaled = scaler.transform(Products_test)"
   ]
  },
  {
   "cell_type": "code",
   "execution_count": 882,
   "id": "83284032",
   "metadata": {},
   "outputs": [],
   "source": [
    "#instantiate SVM model\n",
    "clfProducts = SVC(kernel='linear')"
   ]
  },
  {
   "cell_type": "code",
   "execution_count": 883,
   "id": "f39694a0",
   "metadata": {},
   "outputs": [
    {
     "data": {
      "text/plain": [
       "SVC(kernel='linear')"
      ]
     },
     "execution_count": 883,
     "metadata": {},
     "output_type": "execute_result"
    }
   ],
   "source": [
    "#Train the SVM Model with the train set\n",
    "clfProducts.fit(Products_train_scaled, ResponseProducts_train.values.ravel())"
   ]
  },
  {
   "cell_type": "code",
   "execution_count": 884,
   "id": "5dad72f2",
   "metadata": {},
   "outputs": [],
   "source": [
    "# Predict the Repsonse values from Predictors\n",
    "ResponseProducts_test_pred = clfProducts.predict(Products_test_scaled)"
   ]
  },
  {
   "cell_type": "code",
   "execution_count": 885,
   "id": "5ccb90ba",
   "metadata": {},
   "outputs": [],
   "source": [
    "ResponseProducts_train_pred = clfProducts.predict(Products_train_scaled)"
   ]
  },
  {
   "cell_type": "code",
   "execution_count": 886,
   "id": "454b0655",
   "metadata": {},
   "outputs": [
    {
     "data": {
      "text/plain": [
       "0.8600451467268623"
      ]
     },
     "execution_count": 886,
     "metadata": {},
     "output_type": "execute_result"
    }
   ],
   "source": [
    "#Checking the accuracy of the model\n",
    "accuracy_score(ResponseProducts_test, ResponseProducts_test_pred)"
   ]
  },
  {
   "cell_type": "code",
   "execution_count": 887,
   "id": "344cf21a",
   "metadata": {},
   "outputs": [
    {
     "data": {
      "text/plain": [
       "0.847936687394008"
      ]
     },
     "execution_count": 887,
     "metadata": {},
     "output_type": "execute_result"
    }
   ],
   "source": [
    "accuracy_score(ResponseProducts_train, ResponseProducts_train_pred)"
   ]
  },
  {
   "cell_type": "code",
   "execution_count": 888,
   "id": "84b852bb",
   "metadata": {
    "scrolled": true
   },
   "outputs": [
    {
     "data": {
      "text/plain": [
       "<AxesSubplot:>"
      ]
     },
     "execution_count": 888,
     "metadata": {},
     "output_type": "execute_result"
    },
    {
     "data": {
      "image/png": "[encoded data removed]",
      "text/plain": [
       "<Figure size 864x288 with 4 Axes>"
      ]
     },
     "metadata": {},
     "output_type": "display_data"
    }
   ],
   "source": [
    "from sklearn.metrics import confusion_matrix\n",
    "f, axes = plt.subplots(1, 2, figsize=(12, 4))\n",
    "sb.heatmap(confusion_matrix(ResponseProducts_train, ResponseProducts_train_pred),\n",
    "           annot = True, fmt=\".0f\", annot_kws={\"size\": 18}, ax = axes[0])\n",
    "sb.heatmap(confusion_matrix(ResponseProducts_test, ResponseProducts_test_pred), \n",
    "           annot = True, fmt=\".0f\", annot_kws={\"size\": 18}, ax = axes[1])"
   ]
  },
  {
   "cell_type": "markdown",
   "id": "17e2aae9",
   "metadata": {},
   "source": [
    "# <font color = pink> Applying Support Vector Machines on third dataframe: Promotion"
   ]
  },
  {
   "cell_type": "code",
   "execution_count": 889,
   "id": "0b220003",
   "metadata": {},
   "outputs": [
    {
     "data": {
      "text/html": [
       "<div>\n",
       "<style scoped>\n",
       "    .dataframe tbody tr th:only-of-type {\n",
       "        vertical-align: middle;\n",
       "    }\n",
       "\n",
       "    .dataframe tbody tr th {\n",
       "        vertical-align: top;\n",
       "    }\n",
       "\n",
       "    .dataframe thead th {\n",
       "        text-align: right;\n",
       "    }\n",
       "</style>\n",
       "<table border=\"1\" class=\"dataframe\">\n",
       "  <thead>\n",
       "    <tr style=\"text-align: right;\">\n",
       "      <th></th>\n",
       "      <th>NumDealsPurchases</th>\n",
       "      <th>AcceptedCmp1</th>\n",
       "      <th>AcceptedCmp2</th>\n",
       "      <th>AcceptedCmp3</th>\n",
       "      <th>AcceptedCmp4</th>\n",
       "      <th>AcceptedCmp5</th>\n",
       "    </tr>\n",
       "  </thead>\n",
       "  <tbody>\n",
       "    <tr>\n",
       "      <th>0</th>\n",
       "      <td>3</td>\n",
       "      <td>0</td>\n",
       "      <td>0</td>\n",
       "      <td>0</td>\n",
       "      <td>0</td>\n",
       "      <td>0</td>\n",
       "    </tr>\n",
       "    <tr>\n",
       "      <th>1</th>\n",
       "      <td>2</td>\n",
       "      <td>0</td>\n",
       "      <td>0</td>\n",
       "      <td>0</td>\n",
       "      <td>0</td>\n",
       "      <td>0</td>\n",
       "    </tr>\n",
       "    <tr>\n",
       "      <th>2</th>\n",
       "      <td>1</td>\n",
       "      <td>0</td>\n",
       "      <td>0</td>\n",
       "      <td>0</td>\n",
       "      <td>0</td>\n",
       "      <td>0</td>\n",
       "    </tr>\n",
       "    <tr>\n",
       "      <th>3</th>\n",
       "      <td>2</td>\n",
       "      <td>0</td>\n",
       "      <td>0</td>\n",
       "      <td>0</td>\n",
       "      <td>0</td>\n",
       "      <td>0</td>\n",
       "    </tr>\n",
       "    <tr>\n",
       "      <th>4</th>\n",
       "      <td>5</td>\n",
       "      <td>0</td>\n",
       "      <td>0</td>\n",
       "      <td>0</td>\n",
       "      <td>0</td>\n",
       "      <td>0</td>\n",
       "    </tr>\n",
       "  </tbody>\n",
       "</table>\n",
       "</div>"
      ],
      "text/plain": [
       "   NumDealsPurchases  AcceptedCmp1  AcceptedCmp2  AcceptedCmp3  AcceptedCmp4  \\\n",
       "0                  3             0             0             0             0   \n",
       "1                  2             0             0             0             0   \n",
       "2                  1             0             0             0             0   \n",
       "3                  2             0             0             0             0   \n",
       "4                  5             0             0             0             0   \n",
       "\n",
       "   AcceptedCmp5  \n",
       "0             0  \n",
       "1             0  \n",
       "2             0  \n",
       "3             0  \n",
       "4             0  "
      ]
     },
     "execution_count": 889,
     "metadata": {},
     "output_type": "execute_result"
    }
   ],
   "source": [
    "Promotion = Promotion.drop('Response', axis = 1)\n",
    "Promotion.head()"
   ]
  },
  {
   "cell_type": "code",
   "execution_count": 890,
   "id": "7c934826",
   "metadata": {},
   "outputs": [],
   "source": [
    "Response = pd.DataFrame(CustomerData['Response'])"
   ]
  },
  {
   "cell_type": "code",
   "execution_count": 891,
   "id": "1078136d",
   "metadata": {},
   "outputs": [
    {
     "name": "stdout",
     "output_type": "stream",
     "text": [
      "Train Set : (1769, 1) (1769, 6)\n",
      "Test Set  : (443, 1) (443, 6)\n"
     ]
    }
   ],
   "source": [
    "#Peforming random splitting on the dataset \n",
    "#Random split into train and test set\n",
    "Promotion_train, Promotion_test, ResponsePromo_train, ResponsePromo_test = train_test_split(Promotion, Response, test_size = 0.2)\n",
    "\n",
    "# Check the sample sizes\n",
    "print(\"Train Set :\", ResponsePromo_train.shape, Promotion_train.shape)\n",
    "print(\"Test Set  :\",ResponsePromo_test.shape, Promotion_test.shape)"
   ]
  },
  {
   "cell_type": "code",
   "execution_count": 892,
   "id": "5458a0c6",
   "metadata": {},
   "outputs": [],
   "source": [
    "#scaling the data so that svm works better\n",
    "scaler = StandardScaler()\n",
    "Promotion_train_scaled = scaler.fit_transform(Promotion_train)\n",
    "Promotion_test_scaled = scaler.transform(Promotion_test)"
   ]
  },
  {
   "cell_type": "code",
   "execution_count": 893,
   "id": "d6c2a7e8",
   "metadata": {},
   "outputs": [],
   "source": [
    "#instantiate SVM model\n",
    "clfPromotion = SVC(kernel='linear')"
   ]
  },
  {
   "cell_type": "code",
   "execution_count": 894,
   "id": "afff22de",
   "metadata": {},
   "outputs": [
    {
     "data": {
      "text/plain": [
       "SVC(kernel='linear')"
      ]
     },
     "execution_count": 894,
     "metadata": {},
     "output_type": "execute_result"
    }
   ],
   "source": [
    "#Train the SVM Model with the train set\n",
    "clfPromotion.fit(Promotion_train_scaled, ResponsePromo_train.values.ravel())"
   ]
  },
  {
   "cell_type": "code",
   "execution_count": 895,
   "id": "39a8d0c7",
   "metadata": {},
   "outputs": [],
   "source": [
    "# Predict the Repsonse values from Predictors\n",
    "ResponsePromo_test_pred = clf.predict(Promotion_test_scaled)\n",
    "ResponsePromo_train_pred = clf.predict(Promotion_train_scaled)"
   ]
  },
  {
   "cell_type": "code",
   "execution_count": 896,
   "id": "c134bcf7",
   "metadata": {},
   "outputs": [
    {
     "data": {
      "text/plain": [
       "0.8532731376975169"
      ]
     },
     "execution_count": 896,
     "metadata": {},
     "output_type": "execute_result"
    }
   ],
   "source": [
    "#Checking the accuracy of the model\n",
    "accuracy_score(ResponsePromo_test, ResponsePromo_test_pred)"
   ]
  },
  {
   "cell_type": "code",
   "execution_count": 897,
   "id": "781deafd",
   "metadata": {},
   "outputs": [
    {
     "data": {
      "text/plain": [
       "0.8496325607687959"
      ]
     },
     "execution_count": 897,
     "metadata": {},
     "output_type": "execute_result"
    }
   ],
   "source": [
    "accuracy_score(ResponsePromo_train, ResponsePromo_train_pred)"
   ]
  },
  {
   "cell_type": "code",
   "execution_count": 898,
   "id": "1f893a3a",
   "metadata": {},
   "outputs": [
    {
     "data": {
      "text/plain": [
       "<AxesSubplot:>"
      ]
     },
     "execution_count": 898,
     "metadata": {},
     "output_type": "execute_result"
    },
    {
     "data": {
      "image/png": "[encoded data removed]",
      "text/plain": [
       "<Figure size 864x288 with 4 Axes>"
      ]
     },
     "metadata": {},
     "output_type": "display_data"
    }
   ],
   "source": [
    "from sklearn.metrics import confusion_matrix\n",
    "f, axes = plt.subplots(1, 2, figsize=(12, 4))\n",
    "sb.heatmap(confusion_matrix(ResponsePromo_train, ResponsePromo_train_pred),\n",
    "           annot = True, fmt=\".0f\", annot_kws={\"size\": 18}, ax = axes[0])\n",
    "sb.heatmap(confusion_matrix(ResponsePromo_test, ResponsePromo_test_pred), \n",
    "           annot = True, fmt=\".0f\", annot_kws={\"size\": 18}, ax = axes[1])"
   ]
  },
  {
   "cell_type": "markdown",
   "id": "a6dcab18",
   "metadata": {},
   "source": [
    "# <font color = pink> Applying Support Vector Machines on first dataframe: Places"
   ]
  },
  {
   "cell_type": "code",
   "execution_count": 899,
   "id": "3b0570c5",
   "metadata": {},
   "outputs": [],
   "source": [
    "Place = Place.drop('Response', axis = 1)"
   ]
  },
  {
   "cell_type": "code",
   "execution_count": 900,
   "id": "b8161458",
   "metadata": {},
   "outputs": [
    {
     "data": {
      "text/html": [
       "<div>\n",
       "<style scoped>\n",
       "    .dataframe tbody tr th:only-of-type {\n",
       "        vertical-align: middle;\n",
       "    }\n",
       "\n",
       "    .dataframe tbody tr th {\n",
       "        vertical-align: top;\n",
       "    }\n",
       "\n",
       "    .dataframe thead th {\n",
       "        text-align: right;\n",
       "    }\n",
       "</style>\n",
       "<table border=\"1\" class=\"dataframe\">\n",
       "  <thead>\n",
       "    <tr style=\"text-align: right;\">\n",
       "      <th></th>\n",
       "      <th>NumWebPurchases</th>\n",
       "      <th>NumCatalogPurchases</th>\n",
       "      <th>NumStorePurchases</th>\n",
       "    </tr>\n",
       "  </thead>\n",
       "  <tbody>\n",
       "    <tr>\n",
       "      <th>0</th>\n",
       "      <td>8</td>\n",
       "      <td>10</td>\n",
       "      <td>4</td>\n",
       "    </tr>\n",
       "    <tr>\n",
       "      <th>1</th>\n",
       "      <td>1</td>\n",
       "      <td>1</td>\n",
       "      <td>2</td>\n",
       "    </tr>\n",
       "    <tr>\n",
       "      <th>2</th>\n",
       "      <td>8</td>\n",
       "      <td>2</td>\n",
       "      <td>10</td>\n",
       "    </tr>\n",
       "    <tr>\n",
       "      <th>3</th>\n",
       "      <td>2</td>\n",
       "      <td>0</td>\n",
       "      <td>4</td>\n",
       "    </tr>\n",
       "    <tr>\n",
       "      <th>4</th>\n",
       "      <td>5</td>\n",
       "      <td>3</td>\n",
       "      <td>6</td>\n",
       "    </tr>\n",
       "  </tbody>\n",
       "</table>\n",
       "</div>"
      ],
      "text/plain": [
       "   NumWebPurchases  NumCatalogPurchases  NumStorePurchases\n",
       "0                8                   10                  4\n",
       "1                1                    1                  2\n",
       "2                8                    2                 10\n",
       "3                2                    0                  4\n",
       "4                5                    3                  6"
      ]
     },
     "execution_count": 900,
     "metadata": {},
     "output_type": "execute_result"
    }
   ],
   "source": [
    "Place.head()"
   ]
  },
  {
   "cell_type": "code",
   "execution_count": 901,
   "id": "69113bd7",
   "metadata": {},
   "outputs": [
    {
     "name": "stdout",
     "output_type": "stream",
     "text": [
      "Train Set : (1769, 1) (1769, 6)\n",
      "Test Set  : (443, 1) (443, 6)\n"
     ]
    }
   ],
   "source": [
    "#Peforming random splitting on the dataset \n",
    "#Random split into train and test set\n",
    "Place_train, Place_test, ResponsePlace_train, ResponsePlace_test = train_test_split(Promotion, Response, test_size = 0.2)\n",
    "\n",
    "# Check the sample sizes\n",
    "print(\"Train Set :\", ResponsePlace_train.shape, Place_train.shape)\n",
    "print(\"Test Set  :\",ResponsePlace_test.shape, Place_test.shape)"
   ]
  },
  {
   "cell_type": "code",
   "execution_count": 902,
   "id": "151a95bb",
   "metadata": {},
   "outputs": [],
   "source": [
    "#scaling the data so that svm works better\n",
    "scaler = StandardScaler()\n",
    "Place_train_scaled = scaler.fit_transform(Place_train)\n",
    "Place_test_scaled = scaler.transform(Place_test)"
   ]
  },
  {
   "cell_type": "code",
   "execution_count": 903,
   "id": "eb9bb23f",
   "metadata": {},
   "outputs": [],
   "source": [
    "#instantiate SVM model\n",
    "clfPlace = SVC(kernel='linear')"
   ]
  },
  {
   "cell_type": "code",
   "execution_count": 904,
   "id": "712e5373",
   "metadata": {},
   "outputs": [
    {
     "data": {
      "text/plain": [
       "SVC(kernel='linear')"
      ]
     },
     "execution_count": 904,
     "metadata": {},
     "output_type": "execute_result"
    }
   ],
   "source": [
    "#Train the SVM Model with the train set\n",
    "clfPlace.fit(Place_train_scaled, ResponsePlace_train.values.ravel())"
   ]
  },
  {
   "cell_type": "code",
   "execution_count": 905,
   "id": "5ddb0548",
   "metadata": {},
   "outputs": [],
   "source": [
    "# Predict the Repsonse values from Predictors\n",
    "ResponsePlace_test_pred = clf.predict(Place_test_scaled)\n",
    "ResponsePlace_train_pred = clf.predict(Place_train_scaled)"
   ]
  },
  {
   "cell_type": "code",
   "execution_count": 906,
   "id": "0ec4e059",
   "metadata": {},
   "outputs": [
    {
     "data": {
      "text/plain": [
       "0.8465011286681715"
      ]
     },
     "execution_count": 906,
     "metadata": {},
     "output_type": "execute_result"
    }
   ],
   "source": [
    "#Checking the accuracy of the model\n",
    "accuracy_score(ResponsePlace_test, ResponsePlace_test_pred)"
   ]
  },
  {
   "cell_type": "code",
   "execution_count": 907,
   "id": "a84450e8",
   "metadata": {},
   "outputs": [
    {
     "data": {
      "text/plain": [
       "0.851328434143584"
      ]
     },
     "execution_count": 907,
     "metadata": {},
     "output_type": "execute_result"
    }
   ],
   "source": [
    "accuracy_score(ResponsePlace_train, ResponsePlace_train_pred)"
   ]
  },
  {
   "cell_type": "code",
   "execution_count": 908,
   "id": "2e3c3422",
   "metadata": {
    "scrolled": true
   },
   "outputs": [
    {
     "data": {
      "text/plain": [
       "<AxesSubplot:>"
      ]
     },
     "execution_count": 908,
     "metadata": {},
     "output_type": "execute_result"
    },
    {
     "data": {
      "image/png": "[encoded data removed]",
      "text/plain": [
       "<Figure size 864x288 with 4 Axes>"
      ]
     },
     "metadata": {},
     "output_type": "display_data"
    }
   ],
   "source": [
    "from sklearn.metrics import confusion_matrix\n",
    "f, axes = plt.subplots(1, 2, figsize=(12, 4))\n",
    "sb.heatmap(confusion_matrix(ResponsePlace_train, ResponsePlace_train_pred),\n",
    "           annot = True, fmt=\".0f\", annot_kws={\"size\": 18}, ax = axes[0])\n",
    "sb.heatmap(confusion_matrix(ResponsePlace_test, ResponsePlace_test_pred), \n",
    "           annot = True, fmt=\".0f\", annot_kws={\"size\": 18}, ax = axes[1])"
   ]
  },
  {
   "cell_type": "markdown",
   "id": "ac027856",
   "metadata": {},
   "source": [
    "# <font color = pink> Final conclusion for Support Vector Machine Model\n",
    "    \n",
    "    Good at predicting true negatives but very poor at predicted true positives. However, overall classification accuracy is generally high, usually taking a value of roughly 0.85. Classification accuracy is the highest for Place dataframe. Using the SVM Model on the test set for Place dataframe gives a classification accuracy of 0.871. "
   ]
  },
  {
   "cell_type": "markdown",
   "id": "f2728018",
   "metadata": {},
   "source": [
    "## <font color=black> ML Model 2: Clustering"
   ]
  },
  {
   "cell_type": "markdown",
   "id": "0d37e188",
   "metadata": {},
   "source": [
    "# <font color=pink> Applying Clustering on all of the data"
   ]
  },
  {
   "cell_type": "code",
   "execution_count": 909,
   "id": "acbb2ce9",
   "metadata": {},
   "outputs": [],
   "source": [
    "#importing the relevant libraries to perform clustering\n",
    "from sklearn.cluster import AgglomerativeClustering\n",
    "from sklearn.preprocessing import StandardScaler\n",
    "from sklearn.impute import SimpleImputer\n",
    "from sklearn.compose import ColumnTransformer\n",
    "from sklearn.pipeline import Pipeline\n",
    "from sklearn.decomposition import PCA\n",
    "import matplotlib.pyplot as plt"
   ]
  },
  {
   "cell_type": "code",
   "execution_count": 926,
   "id": "aa0c38a8",
   "metadata": {},
   "outputs": [
    {
     "name": "stdout",
     "output_type": "stream",
     "text": [
      "     ID  Year_Birth   Income  Kidhome  Teenhome  DurationJoined  Recency  \\\n",
      "0  5524        1957  58138.0        0         0              11       58   \n",
      "1  2174        1954  46344.0        1         1               9       38   \n",
      "2  4141        1965  71613.0        0         0              10       26   \n",
      "3  6182        1984  26646.0        1         0               9       26   \n",
      "4  5324        1981  58293.0        1         0               9       94   \n",
      "\n",
      "   MntWines  MntFruits  MntMeatProducts  ...  NumWebVisitsMonth  AcceptedCmp3  \\\n",
      "0       635         88              546  ...                  7             0   \n",
      "1        11          1                6  ...                  5             0   \n",
      "2       426         49              127  ...                  4             0   \n",
      "3        11          4               20  ...                  6             0   \n",
      "4       173         43              118  ...                  5             0   \n",
      "\n",
      "   AcceptedCmp4  AcceptedCmp5  AcceptedCmp1  AcceptedCmp2  Complain  Response  \\\n",
      "0             0             0             0             0         0         1   \n",
      "1             0             0             0             0         0         0   \n",
      "2             0             0             0             0         0         0   \n",
      "3             0             0             0             0         0         0   \n",
      "4             0             0             0             0         0         0   \n",
      "\n",
      "   Education_Num  Marital_Status_Num  \n",
      "0              2                   0  \n",
      "1              2                   0  \n",
      "2              2                   1  \n",
      "3              2                   1  \n",
      "4              4                   2  \n",
      "\n",
      "[5 rows x 27 columns]\n",
      "Train Set : (1769, 1) (1769, 27)\n",
      "Test Set  : (443, 1) (443, 27)\n"
     ]
    }
   ],
   "source": [
    "# create a new dataframe with modified columns\n",
    "new_customer_data = CustomerData.assign(\n",
    "    Education_Num=CustomerData['Education'].replace(['Graduation', 'PhD', 'Master', 'Basic', '2n Cycle'], [2,4,3,0,1]),\n",
    "    Marital_Status_Num=CustomerData['Marital_Status'].replace(['Single', 'Together', 'Married', 'Divorced', 'Widow'], [0,1,2,3,4])\n",
    ")\n",
    "new_customer_data = new_customer_data.drop(['Education','Marital_Status'],axis=1)\n",
    "# print the first five rows of the new dataframe\n",
    "print(new_customer_data.head())\n",
    "\n",
    "## Peforming random splitting on the dataset \n",
    "#Random split into train and test set\n",
    "customer_train, customer_test, Response_train, Response_test = train_test_split(new_customer_data, Response, test_size = 0.2)\n",
    "\n",
    "# Check the sample sizes\n",
    "print(\"Train Set :\", Response_train.shape, customer_train.shape)\n",
    "print(\"Test Set  :\", Response_test.shape, customer_test.shape)\n"
   ]
  },
  {
   "cell_type": "code",
   "execution_count": 927,
   "id": "c4051bf9",
   "metadata": {},
   "outputs": [
    {
     "data": {
      "image/png": "[encoded data removed]",
      "text/plain": [
       "<Figure size 432x288 with 1 Axes>"
      ]
     },
     "metadata": {},
     "output_type": "display_data"
    }
   ],
   "source": [
    "# Define clustering pipeline\n",
    "# standardizes the data and performs agglomerative clustering with 5 clusters. \n",
    "cluster_pipeline = Pipeline(steps=[('scaler', StandardScaler()),\n",
    "                                   ('clustering', AgglomerativeClustering(n_clusters=5))])\n",
    "\n",
    "# Fit the pipeline to the training data\n",
    "cluster_pipeline.fit(customer_train)\n",
    "\n",
    "# Obtain cluster labels for the testing data\n",
    "test_labels = cluster_pipeline.fit_predict(customer_test)\n",
    "\n",
    "# reduce dimensionality to 2D using PCA\n",
    "pca = PCA(n_components=2)\n",
    "customer_pca = pca.fit_transform(customer_test)\n",
    "\n",
    "# plot data points colored by their cluster labels\n",
    "plt.scatter(customer_pca[:, 0], customer_pca[:, 1], c=test_labels)\n",
    "plt.title('Cluster Visualization')\n",
    "plt.xlabel('PC1')\n",
    "plt.ylabel('PC2')\n",
    "plt.show()"
   ]
  },
  {
   "cell_type": "code",
   "execution_count": null,
   "id": "91200fca",
   "metadata": {},
   "outputs": [],
   "source": []
  },
  {
   "cell_type": "code",
   "execution_count": null,
   "id": "42b2da84",
   "metadata": {},
   "outputs": [],
   "source": []
  },
  {
   "cell_type": "code",
   "execution_count": null,
   "id": "f95201db",
   "metadata": {},
   "outputs": [],
   "source": []
  },
  {
   "cell_type": "code",
   "execution_count": null,
   "id": "d999fb50",
   "metadata": {},
   "outputs": [],
   "source": []
  },
  {
   "cell_type": "code",
   "execution_count": null,
   "id": "0ca6a68c",
   "metadata": {},
   "outputs": [],
   "source": []
  },
  {
   "cell_type": "code",
   "execution_count": null,
   "id": "5eb002bf",
   "metadata": {},
   "outputs": [],
   "source": []
  },
  {
   "cell_type": "code",
   "execution_count": null,
   "id": "13b438ef",
   "metadata": {},
   "outputs": [],
   "source": []
  },
  {
   "cell_type": "code",
   "execution_count": null,
   "id": "32b3050e",
   "metadata": {},
   "outputs": [],
   "source": []
  },
  {
   "cell_type": "code",
   "execution_count": null,
   "id": "574b4a95",
   "metadata": {},
   "outputs": [],
   "source": []
  },
  {
   "cell_type": "code",
   "execution_count": null,
   "id": "8cf3aef2",
   "metadata": {},
   "outputs": [],
   "source": []
  },
  {
   "cell_type": "code",
   "execution_count": null,
   "id": "0ae5381b",
   "metadata": {},
   "outputs": [],
   "source": []
  },
  {
   "cell_type": "code",
   "execution_count": null,
   "id": "d2e16cac",
   "metadata": {},
   "outputs": [],
   "source": []
  }
 ],
 "metadata": {
  "kernelspec": {
   "display_name": "Python 3 (ipykernel)",
   "language": "python",
   "name": "python3"
  },
  "language_info": {
   "codemirror_mode": {
    "name": "ipython",
    "version": 3
   },
   "file_extension": ".py",
   "mimetype": "text/x-python",
   "name": "python",
   "nbconvert_exporter": "python",
   "pygments_lexer": "ipython3",
   "version": "3.9.12"
  }
 },
 "nbformat": 4,
 "nbformat_minor": 5
}
